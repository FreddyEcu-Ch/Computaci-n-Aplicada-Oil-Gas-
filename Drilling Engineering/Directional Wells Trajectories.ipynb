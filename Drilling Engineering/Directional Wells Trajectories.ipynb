{
 "cells": [
  {
   "cell_type": "markdown",
   "metadata": {},
   "source": [
    "#                                            DIRECTIONAL DRILLING \n",
    "##                                           *DIRECTIONAL WELLS PROFILES*"
   ]
  },
  {
   "cell_type": "markdown",
   "metadata": {},
   "source": [
    "***"
   ]
  },
  {
   "cell_type": "markdown",
   "metadata": {},
   "source": [
    "<img src=\"resources/Well_prof.jpg\" width=800 height=800 />"
   ]
  },
  {
   "cell_type": "markdown",
   "metadata": {},
   "source": [
    "# Python Libraries"
   ]
  },
  {
   "cell_type": "code",
   "execution_count": 8,
   "metadata": {
    "collapsed": false,
    "jupyter": {
     "outputs_hidden": false
    }
   },
   "outputs": [],
   "source": [
    "from collections import namedtuple\n",
    "from math import radians, acos, asin, cos, sin, atan, degrees, sqrt"
   ]
  },
  {
   "cell_type": "markdown",
   "metadata": {},
   "source": [
    "# *Directional Wells Profiles*"
   ]
  },
  {
   "cell_type": "markdown",
   "metadata": {},
   "source": [
    "## *Slant Well Profile (J Type)*"
   ]
  },
  {
   "cell_type": "markdown",
   "metadata": {},
   "source": [
    "<img src=\"resources/j_prof.png\" width=500 height=500 align='center' />"
   ]
  },
  {
   "cell_type": "code",
   "execution_count": 9,
   "metadata": {
    "collapsed": false,
    "jupyter": {
     "outputs_hidden": false
    }
   },
   "outputs": [],
   "source": [
    "Data = namedtuple(\"Input\", \"TVD KOP BUR DH\")\n",
    "Output = namedtuple(\"Output\", \"R Theta TVD_EOB Md_EOB Dh_EOB Tan_len Md_total\")\n",
    "\n",
    "def well_J(data:Data, unit='ingles') -> Output:\n",
    "    # 1. Call input values\n",
    "    tvd = data.TVD\n",
    "    kop = data.KOP\n",
    "    bur = data.BUR\n",
    "    dh = data.DH\n",
    "    \n",
    "    # 3. Calculo de R\n",
    "    if unit == 'ingles':\n",
    "        R = 5729.58 / bur\n",
    "    else:\n",
    "        R = 1718.87 / bur\n",
    "        \n",
    "    # 4. Calculo de theta\n",
    "    # 4.1 Calculo de dc\n",
    "    if dh > R:\n",
    "        dc = dh - R\n",
    "    elif dh < R:\n",
    "        dc = R - dh\n",
    "        \n",
    "    # 4.2 Calculo de DO    \n",
    "    do = tvd - kop\n",
    "    \n",
    "    # 4.3 Angulo DOC\n",
    "    doc = degrees(atan(dc / do))\n",
    "    \n",
    "    # 4.4 Calculo de OC\n",
    "    oc = sqrt(dc**2 + do**2)\n",
    "    \n",
    "    # 4.5 Calculo de angulo BOC\n",
    "    boc = degrees(acos(R / oc))\n",
    "    \n",
    "    # 4.6 Angulo BOD\n",
    "    if R < dh:\n",
    "        bod = boc - doc\n",
    "    elif R > dh:\n",
    "        bod = boc + doc\n",
    "        \n",
    "    # 4.7 Angulo Theta    \n",
    "    theta = 90 - bod\n",
    "    \n",
    "    # 5. TVD @EOB\n",
    "    tvd_eob = kop + abs(R * sin(radians(theta)))\n",
    "    \n",
    "    # 6. MD @EOB\n",
    "    if unit == 'ingles':\n",
    "        md_eob = kop + (theta / bur) * 100\n",
    "    else:\n",
    "        md_eob = kop + (theta / bur) * 30\n",
    "        \n",
    "    # 7. DH @EOB    \n",
    "    dh_eob = R - R * cos(radians(theta))\n",
    "    \n",
    "    # 8. MD Total\n",
    "    # 8.1 BC\n",
    "    tan_len = sqrt(oc**2 - R**2)\n",
    "    \n",
    "    # 8.2 MD Total\n",
    "    if unit == 'ingles':\n",
    "        md_total = kop + (theta / bur) * 100 + tan_len\n",
    "    else:\n",
    "        md_total = kop + (theta / bur) * 30 + tan_len\n",
    "        \n",
    "    return Output(R=R, Theta=theta, TVD_EOB=tvd_eob, Md_EOB=md_eob, Dh_EOB=dh_eob, Tan_len=tan_len, Md_total=md_total)\n",
    "\n",
    "#     names = ['R', 'theta', 'tvd_EOB', 'MD_EOB', 'DH_EOB', 'Length_tan', 'MD_Total']\n",
    "#     for param , value in zip(names, trajectory_J):\n",
    "#         if param == 'theta':\n",
    "#             print(f\"{param} -> {value:.3f} degrees\")\n",
    "#         else:\n",
    "#             print(f\"{param} -> {value:.3f} ft\")"
   ]
  },
  {
   "cell_type": "markdown",
   "metadata": {},
   "source": [
    "## *Ejercicio 1*"
   ]
  },
  {
   "cell_type": "code",
   "execution_count": 10,
   "metadata": {
    "collapsed": false,
    "jupyter": {
     "outputs_hidden": false
    }
   },
   "outputs": [],
   "source": [
    "# data\n",
    "tvd = 8000 #ft\n",
    "kop = 500 #ft\n",
    "bur = 2 #o/100ft\n",
    "dh = 970.8 #ft"
   ]
  },
  {
   "cell_type": "code",
   "execution_count": 11,
   "metadata": {
    "collapsed": false,
    "jupyter": {
     "outputs_hidden": false
    }
   },
   "outputs": [],
   "source": [
    "trajectory_J = well_J(Data(tvd, kop, bur, dh))"
   ]
  },
  {
   "cell_type": "code",
   "execution_count": 12,
   "metadata": {
    "collapsed": false,
    "jupyter": {
     "outputs_hidden": false
    }
   },
   "outputs": [
    {
     "data": {
      "text/plain": [
       "Output(R=2864.79, Theta=7.564230623470863, TVD_EOB=877.1139517978513, Md_EOB=878.2115311735431, Dh_EOB=24.929649303260703, Tan_len=7185.414140882904, Md_total=8063.625672056447)"
      ]
     },
     "execution_count": 12,
     "metadata": {},
     "output_type": "execute_result"
    }
   ],
   "source": [
    "trajectory_J"
   ]
  },
  {
   "cell_type": "code",
   "execution_count": 14,
   "metadata": {
    "collapsed": false,
    "jupyter": {
     "outputs_hidden": false
    }
   },
   "outputs": [
    {
     "name": "stdout",
     "output_type": "stream",
     "text": [
      "R -> 2864.79 ft\n",
      "theta -> 7.56 degrees\n",
      "tvd_EOB -> 877.11 ft\n",
      "MD_EOB -> 878.21 ft\n",
      "DH_EOB -> 24.93 ft\n",
      "Length_tan -> 7185.41 ft\n",
      "MD_Total -> 8063.63 ft\n"
     ]
    }
   ],
   "source": [
    "names = ['R', 'theta', 'tvd_EOB', 'MD_EOB', 'DH_EOB', 'Length_tan', 'MD_Total']\n",
    "for param , value in zip(names, trajectory_J):\n",
    "    if param == 'theta':\n",
    "        print(f\"{param} -> {value:.2f} degrees\")\n",
    "    else:\n",
    "        print(f\"{param} -> {value:.2f} ft\")"
   ]
  },
  {
   "cell_type": "markdown",
   "metadata": {},
   "source": [
    "## *S-Type Well Profile*"
   ]
  },
  {
   "cell_type": "markdown",
   "metadata": {},
   "source": [
    "<img src=\"resources/s_prof.png\" width=500 height=400 />"
   ]
  },
  {
   "cell_type": "code",
   "execution_count": 18,
   "metadata": {
    "collapsed": false,
    "jupyter": {
     "outputs_hidden": false
    },
    "pycharm": {
     "name": "#%%\n"
    }
   },
   "outputs": [],
   "source": [
    "# Function to calculate parameters from a S-Type well\n",
    "Data_S = namedtuple(\"Input\", \"TVD KOP BUR DOR DH\")\n",
    "Output_S = namedtuple(\"Output\", \"R1 R2 Theta TVD_EOB Md_EOB Dh_EOB Tan_len Md_SOD TVD_SOD Dh_SOD Md_total\")\n",
    "\n",
    "def well_S(data:Data_S, unit='ingles'):\n",
    "    # 1. Definir variables\n",
    "    tvd = data.TVD\n",
    "    kop = data.KOP\n",
    "    bur = data.BUR\n",
    "    dor = data.DOR\n",
    "    dh = data.DH\n",
    "    \n",
    "    # 3. R1 y R2\n",
    "    if unit == 'ingles':\n",
    "        R1 = 5729.58 / bur\n",
    "        R2 = 5729.58 / dor\n",
    "    else:\n",
    "        R1 = 1718.87 / bur\n",
    "        R2 = 1718.87 / dor\n",
    "        \n",
    "    # 4. Calcular Theta\n",
    "    # 4.1. Calcular FE\n",
    "    \n",
    "    if dh > (R1 + R2):\n",
    "        fe = dh - (R1 + R2)\n",
    "    elif dh < (R1 + R2):\n",
    "        fe = R1 - (dh - R2)\n",
    "        \n",
    "    # 4.2. Calcular EO\n",
    "    eo = tvd - kop\n",
    "    \n",
    "    # 4.3 Calcular FOE\n",
    "    foe = degrees(atan(fe / eo))\n",
    "    \n",
    "    # 4.4. Calcular OF\n",
    "    of = sqrt(fe**2 + eo**2)\n",
    "    \n",
    "    # 4.5. Calcular FG\n",
    "    fg = R1 + R2\n",
    "    \n",
    "    # 4.6. Calcular angulo FOG\n",
    "    fog = degrees(asin(fg / of))\n",
    "    \n",
    "    # 4.7. Angulo Theta\n",
    "    theta = fog - foe\n",
    "    \n",
    "    # 5. TVD @EOB\n",
    "    tvd_eob = kop + R1 * sin(radians(theta))\n",
    "    \n",
    "    # 6. MD @EOB\n",
    "    if unit == 'ingles':\n",
    "        md_eob = kop + (theta / bur) * 100\n",
    "    else:\n",
    "        md_eob = kop + (theta / bur) * 30\n",
    "        \n",
    "    # 7. DH @EOB\n",
    "    dh_eob = R1 - abs(R1 * cos(radians(theta)))\n",
    "    \n",
    "    # 8.1. BC\n",
    "    tan_len = sqrt(of**2 - fg**2)\n",
    "    \n",
    "    # 8.2 MD @SOD\n",
    "    if unit == 'ingles':\n",
    "        md_sod = kop + (theta / bur) * 100 + tan_len\n",
    "    else:\n",
    "         md_sod = kop + (theta / bur) * 30 + tan_len\n",
    "            \n",
    "    # 9. TVD @SOD        \n",
    "    tvd_sod = tvd_eob + tan_len * abs(cos(radians(theta)))\n",
    "    \n",
    "    # 10. DH @SOD\n",
    "    dh_sod = dh_eob + abs(tan_len * sin(radians(theta)))\n",
    "    \n",
    "    # 11. MD Total\n",
    "    if unit == 'ingles':\n",
    "        md_total = kop + (theta / bur) * 100 + tan_len + (theta / dor) * 100\n",
    "    else:\n",
    "        md_total = kop + (theta / bur) * 30 + tan_len + (theta / dor) * 30\n",
    "        \n",
    "\n",
    "    output_S = Output_S(R1=R1, R2=R2, Theta=theta, TVD_EOB=tvd_eob, Md_EOB=md_eob, Dh_EOB=dh_eob, \\\n",
    "                    Tan_len=tan_len, Md_SOD=md_sod, TVD_SOD=tvd_sod, Dh_SOD=dh_sod, Md_total=md_total)\n",
    "\n",
    "    names = ['R1', 'R2', 'theta', 'tvd_EOB', 'Md_EOB', 'Dh_EOB', 'Lengh_tan', 'Md_SOD', 'tvd_SOD', 'Dh_SOD', 'Md_Total']\n",
    "    for param , value in zip(names, output_S):\n",
    "        if param == 'theta':\n",
    "            print(f\"{param} -> {value:.3f} degrees\")\n",
    "        else:\n",
    "            print(f\"{param} -> {value:.3f} ft\")"
   ]
  },
  {
   "cell_type": "markdown",
   "metadata": {},
   "source": [
    "# *Ejercicio 2*"
   ]
  },
  {
   "cell_type": "code",
   "execution_count": 19,
   "metadata": {
    "collapsed": false,
    "jupyter": {
     "outputs_hidden": false
    }
   },
   "outputs": [],
   "source": [
    "# Data\n",
    "kop = 6084 #ft\n",
    "tvd = 12000 #ft\n",
    "bur = 3 #o/100ft\n",
    "dor = 2 #o/ft\n",
    "dh = 3500 #ft"
   ]
  },
  {
   "cell_type": "code",
   "execution_count": 20,
   "metadata": {
    "collapsed": false,
    "jupyter": {
     "outputs_hidden": false
    }
   },
   "outputs": [
    {
     "name": "stdout",
     "output_type": "stream",
     "text": [
      "R1 -> 1909.860 ft\n",
      "R2 -> 2864.790 ft\n",
      "theta -> 39.930 degrees\n",
      "tvd_EOB -> 7309.854 ft\n",
      "Md_EOB -> 7415.010 ft\n",
      "Dh_EOB -> 445.330 ft\n",
      "Lengh_tan -> 3718.401 ft\n",
      "Md_SOD -> 11133.411 ft\n",
      "tvd_SOD -> 10161.220 ft\n",
      "Dh_SOD -> 2832.005 ft\n",
      "Md_Total -> 13129.926 ft\n"
     ]
    }
   ],
   "source": [
    "well_S(Data_S(tvd, kop, bur, dor, dh))"
   ]
  },
  {
   "cell_type": "markdown",
   "metadata": {},
   "source": [
    "## *Horizontal Well Profiles*"
   ]
  },
  {
   "cell_type": "markdown",
   "metadata": {},
   "source": [
    "<img src=\"resources/Horizontal_prof.jpg\" width=500 height=400 />"
   ]
  },
  {
   "cell_type": "code",
   "execution_count": 28,
   "metadata": {
    "collapsed": false,
    "jupyter": {
     "outputs_hidden": false
    }
   },
   "outputs": [],
   "source": [
    "# Function to calculate parameters of a Horizontal Well\n",
    "Data_H = namedtuple(\"Input\", \"TVD KOP BUR1 BUR2 DH\")\n",
    "Output_H = namedtuple(\"Output\", \"R1 R2 Theta TVD_EOB1 Md_EOB1 Dh_EOB1 Tan_len Md_SOB2 Md_total\")\n",
    "\n",
    "def well_H(data_h:Data_H, unit=\"ingles\"):\n",
    "    # 1. Definir variables\n",
    "    tvd = data_h.TVD\n",
    "    kop = data_h.KOP\n",
    "    bur1 = data_h.BUR1\n",
    "    bur2 = data_h.BUR2\n",
    "    dh = data_h.DH\n",
    "    \n",
    "    \n",
    "    # 3. R1 y R2\n",
    "    if unit ==\"ingles\":\n",
    "        R1 = 5729.58 / bur1\n",
    "        R2 = 5729.58 / bur2\n",
    "        \n",
    "    else:\n",
    "        R1 = 1718.87 / bur1\n",
    "        R2 = 1718.87 / bur2\n",
    "        \n",
    "    # 4. Angulo theta\n",
    "    # 4.1. Segmento EG\n",
    "    eg = (tvd - kop) - R2\n",
    "    \n",
    "    # 4.2. Segmento EO\n",
    "    eo = dh - R1\n",
    "    \n",
    "    # 4.3. Angulo GOE\n",
    "    goe = degrees(atan(eg / eo))\n",
    "    \n",
    "    # 4.4. Segmento og\n",
    "    og = sqrt(eg**2 + eo**2)\n",
    "    \n",
    "    # 4.5. Segmeto OF\n",
    "    of = R1 - R2\n",
    "    \n",
    "    # 4.6. Angulo GOF\n",
    "    gof = degrees(acos(of / og))\n",
    "    \n",
    "    # 4.7 Angulo theta\n",
    "    theta = 180 - goe - gof\n",
    "    \n",
    "    # 5. TVD @EOB1\n",
    "    tvd_eob1 = kop + (R1 * sin(radians(theta)))\n",
    "                      \n",
    "    # 6. MD @EOB1\n",
    "    if unit ==\"ingles\":\n",
    "        md_eob1 = kop + (theta / bur1) * 100\n",
    "    else:\n",
    "        md_eob1 = kop + (theta / bur1) * 30\n",
    "                      \n",
    "    # 7. DH @EOB1\n",
    "    dh_eob1 = R1 - (R1 * cos(radians(theta)))\n",
    "    \n",
    "    # 8.1 Segmento BC\n",
    "    tan_len = sqrt(og**2 - of**2)\n",
    "    \n",
    "    if unit == \"ingles\":\n",
    "        md_sob2 = kop + (theta / bur1) * 100 + tan_len\n",
    "    else:\n",
    "        md_sob2 = kop + (theta / bur1) * 30 + tan_len\n",
    "        \n",
    "    # 9. MD Total\n",
    "    if unit == \"ingles\":\n",
    "        md_total = kop + (theta / bur1) * 100 + tan_len + ((90 - theta) / bur2) * 100\n",
    "    else:\n",
    "        md_total = kop + (theta / bur1) * 30 + tan_len + ((90 - theta) / bur2) * 30\n",
    "        \n",
    "        \n",
    "    output_H = Output_H(R1=R1, R2=R2, Theta=theta, TVD_EOB1=tvd_eob1, Md_EOB1=md_eob1, Dh_EOB1=dh_eob1, Tan_len=tan_len, Md_SOB2=md_sob2, Md_total=md_total)\n",
    "\n",
    "    names = ['R1', 'R2', 'theta', 'tvd_EOB1', 'Md_EOB1', 'Dh_EOB1', 'Lengh_tan', 'Md_SOB2', 'Md_Total']\n",
    "    for param , value in zip(names, output_H):\n",
    "        if param == 'theta':\n",
    "            print(f\"{param} -> {value:.3f} degrees\")\n",
    "        else:\n",
    "            print(f\"{param} -> {value:.3f} ft\")\n",
    "            \n",
    "            namedtuple(\"Output\", \"R1 R2 Theta TVD_EOB1 Md_EOB1 Dh_EOB1 Tan_len Md_SOB2 Md_total\")"
   ]
  },
  {
   "cell_type": "markdown",
   "metadata": {},
   "source": [
    "# *Ejercicio 3*"
   ]
  },
  {
   "cell_type": "code",
   "execution_count": 26,
   "metadata": {
    "collapsed": false,
    "jupyter": {
     "outputs_hidden": false
    }
   },
   "outputs": [],
   "source": [
    "# Data\n",
    "tvd = 3800 #ft\n",
    "kop = 2000 #ft\n",
    "bur1 = 5.73 #o/100ft\n",
    "bur2 = 9.55 #o/100ft\n",
    "dh = 1800 #ft"
   ]
  },
  {
   "cell_type": "code",
   "execution_count": 29,
   "metadata": {},
   "outputs": [
    {
     "name": "stdout",
     "output_type": "stream",
     "text": [
      "R1 -> 999.927 ft\n",
      "R2 -> 599.956 ft\n",
      "theta -> 49.792 degrees\n",
      "tvd_EOB1 -> 2763.645 ft\n",
      "Md_EOB1 -> 2868.962 ft\n",
      "Dh_EOB1 -> 354.404 ft\n",
      "Lengh_tan -> 1385.730 ft\n",
      "Md_SOB2 -> 4254.692 ft\n",
      "Md_Total -> 4675.723 ft\n"
     ]
    }
   ],
   "source": [
    "well_H(Data_H(tvd, kop, bur1, bur2, dh))"
   ]
  }
 ],
 "metadata": {
  "kernelspec": {
   "display_name": "Python 3 (ipykernel)",
   "language": "python",
   "name": "python3"
  },
  "language_info": {
   "codemirror_mode": {
    "name": "ipython",
    "version": 3
   },
   "file_extension": ".py",
   "mimetype": "text/x-python",
   "name": "python",
   "nbconvert_exporter": "python",
   "pygments_lexer": "ipython3",
   "version": "3.10.12"
  }
 },
 "nbformat": 4,
 "nbformat_minor": 4
}
