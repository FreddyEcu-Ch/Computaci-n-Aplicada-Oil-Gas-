{
 "cells": [
  {
   "cell_type": "markdown",
   "id": "c0cb4d5c-f913-4883-9377-1eb234dc4332",
   "metadata": {},
   "source": [
    "# **Unidad 1 - Propiedades de los Fluidos de Reservorio**"
   ]
  },
  {
   "cell_type": "markdown",
   "id": "f05d7287-fbd7-42c3-82f1-8d5803aa2bc2",
   "metadata": {},
   "source": [
    "## Contenido\n",
    "\n",
    "- **Correlaciones para las propiedades PVT del petróleo negro**\n",
    "    - 1. Correlaciones para el punto de burbuja, $P_b$\n",
    "    - 2. Correlaciones para la solubilidad del gas, $R_s$\n",
    "    - 3. Correlaciones para la compresibilidad del petróleo, $C_o$\n",
    "    - 4. Correlaciones para el factor volumétrico del petróleo, $B_o$\n",
    "    - 5. Correlaciones para la densidad del petróleo, $\\rho_o$\n",
    "    - 6. Correlaciones para la viscosidad del petróleo, $\\mu_o$\n",
    "        - 6.1 Viscosidad del petróleo crudo, $\\mu_od$\n",
    "        - 6.2 Viscosidad del petróleo saturado, $\\mu_ob$\n",
    "        - 6.3 Viscosidad del petróleo subsaturado, $\\mu_o$\n",
    "        "
   ]
  },
  {
   "cell_type": "markdown",
   "id": "d584e43c-0bac-4ce9-abfc-f3e3c610f545",
   "metadata": {},
   "source": [
    "![separ_test.PNG](Resources/separ_test.PNG)\\\n",
    "*Figure 1. Separator test*"
   ]
  },
  {
   "cell_type": "markdown",
   "id": "ece96765-2951-4ce0-9f8f-2c12d99c6821",
   "metadata": {},
   "source": [
    "# Import Python Libraries"
   ]
  },
  {
   "cell_type": "code",
   "execution_count": 60,
   "id": "728d9030-e8c2-45ae-89ad-a93395db8436",
   "metadata": {},
   "outputs": [],
   "source": [
    "import pandas as pd\n",
    "import numpy as np\n",
    "import matplotlib.pyplot as plt\n",
    "from matplotlib.ticker import AutoMinorLocator\n",
    "import plotly_express as px\n",
    "import math"
   ]
  },
  {
   "cell_type": "markdown",
   "id": "a69d0d1f-c35b-44e0-ab3a-28967269c5fd",
   "metadata": {},
   "source": [
    "# **Propiedades de los Fluidos**"
   ]
  },
  {
   "cell_type": "markdown",
   "id": "984e489e-b90a-4e90-9c68-7e0bc479429f",
   "metadata": {},
   "source": [
    "## **1. Correlaciones para el punto de burbuja $P_b$**\n",
    "\n",
    "![PB](Resources/PhaseDiagram.png)\\\n",
    "*Figura 2. Diagrama de Fases*"
   ]
  },
  {
   "cell_type": "markdown",
   "id": "1a2b818b-320f-4604-9757-5b560f92601b",
   "metadata": {},
   "source": [
    "## *1.1. Correlación de Standing, $P_b$*\n",
    "\n",
    "En el desarrollo de sus correlaciones, utilizó **105 puntos** de datos determinados experimentalmente sobre 22 mezcas diferentes de petróleo y gas procedentes de California. \n",
    "\n",
    "\\begin{gathered}\n",
    "P_b=18.2\\left[\\left(R_s / \\gamma_g\\right)^{0.83}(10)^{a-1.4}\\right] \\\\\n",
    "a=0.00091(T)-0.0125(A P I)\n",
    "\\end{gathered}\n",
    "\n",
    "**Donde:**\n",
    "\n",
    "$\\checkmark R_s=$ Solubilidad del gas, $s c f / S T B$ :\\\n",
    "$\\checkmark \\gamma_g=$ Gravedad específica de los gases de superficie\\\n",
    "$\\checkmark P_b=$ Presión del punto de burbuja; psia\\\n",
    "$\\checkmark T=$ Temperatura del Sistema, $F$"
   ]
  },
  {
   "cell_type": "code",
   "execution_count": 2,
   "id": "ac4705ed-c444-4274-b830-44d29e21652d",
   "metadata": {},
   "outputs": [],
   "source": [
    "def pb_std(sg, api, T, P, rs=None, pb=None):\n",
    "    # Coeficiente a\n",
    "    a = 0.00091 * T - 0.0125 * api\n",
    "    \n",
    "    if rs is not None:\n",
    "        pb = 18.2 * ((rs / sg)**0.83 * (10)**a - 1.4)\n",
    "    \n",
    "    else:\n",
    "        pb = pb\n",
    "    return pb"
   ]
  },
  {
   "cell_type": "markdown",
   "id": "43333a80-2a42-4740-ae12-b29f32302968",
   "metadata": {},
   "source": [
    "## *1.2. Correlación de Vasquez-Beggs, $P_b$*\n",
    "\n",
    "La correlación se desarrolló a partir de datos obtenidos en más de 600 análisis PVT de laboratorio recogidos en yacimientos de todo el mundo.\n",
    "\n",
    "\n",
    "$$\n",
    "\\begin{aligned}\n",
    "P_b & =\\left[\\left(C 1 \\frac{R_s}{\\gamma_{g s}}\\right)(10)^a\\right]^{C 3} \\\\\n",
    "a & =C 2\\left(\\frac{A P I}{T+460}\\right)\n",
    "\\end{aligned}\n",
    "$$\n",
    "$$\n",
    "\\gamma_{g s}=\\gamma_g\\left[1+0.5912 *\\left(10^{-4}\\right)(A P I)\\left(T_{\\text {sep }}\\right) \\log \\left(\\frac{P_{\\text {sep }}}{114.7}\\right)\\right]\n",
    "$$\n",
    "**Donde:**\n",
    "\n",
    "$\\checkmark R_S=$ Solubilidad del gas, $scf / STB$\\\n",
    "$\\checkmark \\gamma_g=$ Gravedad específica promedio de los gases de superficie\\\n",
    "$\\checkmark \\gamma_{g s}=$ Gravedad específica del gas en el separador\\\n",
    "$\\checkmark P_b=$ Presión del punto de burbuja, $psia$\\\n",
    "$\\checkmark T=$ Temperatura del Sistema; $F$"
   ]
  },
  {
   "cell_type": "code",
   "execution_count": null,
   "id": "740ef38f-41ba-421b-b43d-e6a1be07a2b1",
   "metadata": {},
   "outputs": [],
   "source": [
    "# Write your code here\n",
    "\n"
   ]
  },
  {
   "cell_type": "markdown",
   "id": "28a973c4-bb59-4f0e-ac18-0a953b7ee4f2",
   "metadata": {},
   "source": [
    "---"
   ]
  },
  {
   "cell_type": "markdown",
   "id": "f77aaef2-4404-4478-adf8-a28b06c48e39",
   "metadata": {
    "jp-MarkdownHeadingCollapsed": true,
    "tags": []
   },
   "source": [
    "## **2. Correlaciones para la solubilidad del gas $R_s$**\n",
    "\n",
    "![PB](Resources/Rs_Plot.png)\\\n",
    "*Figura 3. Solubilidad del gas*"
   ]
  },
  {
   "cell_type": "markdown",
   "id": "6e48a5b6-e554-4b7a-ae6b-ef054a393611",
   "metadata": {},
   "source": [
    "## *2.1. Correlación de Velarde, $R_s$*\n",
    "\n",
    "En el desarrollo de sus correlaciones utilizó $\\mathbf{1 0 5}$ puntos de datos determinados experimentalmente sobre 22 mezclas diferentes de petróleo y gas procedentes de California.\n",
    "$$\n",
    "\n",
    "\n",
    "\\begin{gathered}\n",
    "R_S=\\frac{R_{s r}}{R_{s b}} \\quad \\quad R_{S r}=\\alpha 1 P_r^{\\alpha 2}+(1-\\alpha 1) P_r{ }^{\\alpha 3} \\\\\n",
    "P_r=\\frac{P-0.101}{P_b} \\\\\n",
    "\\alpha 1=A_o S G_g{ }^{A 1} Y_{A P I}{ }^{A 2}(1.8 T-459.67)^{A 3} P_b{ }^{A 3} \\\\\n",
    "\\alpha 2=B_o S G_g{ }^{B 1} Y_{A P I}{ }^{B 2}(1.8 T-459.67)^{B 3} P_b{ }^{B 4} \\\\\n",
    "\\alpha 3=C_o S G_g{ }^{C 1} Y_{A P I}{ }^{C 2}(1.8 T-459.67)^{C 3} P_b^{C 4}\n",
    "\\end{gathered}\n",
    "$$\n",
    "\n",
    "**Donde:**\n",
    "\n",
    "$\\checkmark R_S=$ Solubilidad del gas, $scf / STB$\\\n",
    "$\\checkmark \\gamma_g=$ Gravedad específica promedio de los gases de superficie\\\n",
    "$\\checkmark \\gamma_{o}=$ Gravedad específica del petróleo\\\n",
    "$\\checkmark P=$ Presión del sistema, $psia$\\\n",
    "$\\checkmark P_b=$ Presión del punto de burbuja, $psia$\\\n",
    "$\\checkmark P_r=$ Presión reducidad, $psia$\\\n",
    "$\\checkmark T=$ Temperatura del Sistema; $F$"
   ]
  },
  {
   "cell_type": "code",
   "execution_count": null,
   "id": "a1f3cbd7-0e61-424f-ba43-7a221c35449e",
   "metadata": {},
   "outputs": [],
   "source": [
    "def rs_velarde(sg, api, T, P, rsb, pb=None):\n",
    "    \n",
    "    if pb is not None:\n",
    "        # Presión reducida\n",
    "        pr = (P - 0.101) / pb\n",
    "        \n",
    "        # Solubilidad del gas reducida\n",
    "        # alpha 1\n",
    "        al_1 = 1.8653e-4 * sg**1.672608 * api**0.929870 * (1.8 * T - 459.67)**0.247235 * pb**0.247235\n",
    "\n",
    "        # alpha 2\n",
    "        al_2 = 0.1004 * sg**-1.00475 * api**0.337711 * (1.8 * T - 459.67)**0.12795 * pb**0.302065\n",
    "\n",
    "        # alpha 3\n",
    "        al_3 = 0.9167 * sg**-1.48548 * api**-0.164741 * (1.8 * T - 459.67)**-0.09133 * pb**0.047094\n",
    "\n",
    "        # Solubilidad del gas reducida\n",
    "        Rs_r = al_1 * (pr)**al_2 + (1 - al_1) * pr**al_3\n",
    "        \n",
    "    else:\n",
    "        # Presión reducida\n",
    "        pr = (P - 0.101) / pb_std(sg, api, T, P, rsb)\n",
    "        \n",
    "        # Solubilidad del gas reducida\n",
    "        # alpha 1\n",
    "        al_1 = 1.8653e-4 * sg**1.672608 * api**0.929870 * (1.8 * T - 459.67)**0.247235 * pb_std(sg, api, T, P, rsb)**0.247235\n",
    "\n",
    "        # alpha 2\n",
    "        al_2 = 0.1004 * sg**-1.00475 * api**0.337711 * (1.8 * T - 459.67)**0.12795 * pb_std(sg, api, T, P, rsb)**0.302065\n",
    "\n",
    "        # alpha 3\n",
    "        al_3 = 0.9167 * sg**-1.48548 * api**-0.164741 * (1.8 * T - 459.67)**-0.09133 * pb_std(sg, api, T, P, rsb)**0.047094\n",
    "\n",
    "        # Solubilidad del gas\n",
    "        Rs_r = al_1 * pr**al_2 + (1 - al_1) * pr**al_3\n",
    "        \n",
    "        \n",
    "    Rs = Rs_r / rsb\n",
    "    \n",
    "    return Rs"
   ]
  },
  {
   "cell_type": "markdown",
   "id": "a9d61683-a209-4f55-8eb9-de60ec491ae4",
   "metadata": {},
   "source": [
    "## *2.2. Correlación de Standing, $R_s$*\n",
    "\n",
    "En el desarrollo de sus correlaciones utilizó **105 puntos de datos determinados experimentalmente sobre 22 mezclas diferentes de petróleo y gas procedentes de California.**\n",
    "\n",
    "\n",
    "$$\n",
    "\\begin{aligned}\n",
    "& R_S=\\gamma_g\\left[\\left(\\frac{P}{18.2}+1.4\\right) 10^x\\right]^{1.2048} \\\\\n",
    "& x=0.0125 A P I-0.00091 T\n",
    "\\end{aligned}\n",
    "$$\n",
    "\n",
    "**Donde:**\n",
    "\n",
    "$\\checkmark R_S=$ Solubilidad del gas, $scf / STB$\\\n",
    "$\\checkmark \\gamma_g=$ Gravedad específica del gas en solución\\\n",
    "$\\checkmark P=$ Presión del sistema, $psia$\\\n",
    "$\\checkmark T=$ Temperatura del Sistema, $F$\n",
    "\n",
    "*Válida para yacimientos saturado y subsaturado*"
   ]
  },
  {
   "cell_type": "code",
   "execution_count": 8,
   "id": "8382c6de-73c5-4256-99dc-0259fc3091b8",
   "metadata": {},
   "outputs": [],
   "source": [
    "def rs_std(sg, api, T, P):\n",
    "    \n",
    "    # Coeficiente x\n",
    "    x = 0.0125 * api - 0.00091 * T\n",
    "    \n",
    "    Rs = sg * (((P / 18.2) + 1.4) * 10**x)**1.2048\n",
    "    \n",
    "    return Rs"
   ]
  },
  {
   "cell_type": "markdown",
   "id": "4ea167db-cfde-4b41-8c1e-263dbcd74347",
   "metadata": {},
   "source": [
    "## **Test 1**\n",
    "\n",
    "Calcular la presión del punto de burbuja utilizando los siguientes datos:"
   ]
  },
  {
   "cell_type": "code",
   "execution_count": 3,
   "id": "9e29a4ed-f24f-445b-894e-f34e738df31a",
   "metadata": {},
   "outputs": [],
   "source": [
    "rsb = 1124 #scf/stb\n",
    "api = 38.982 \n",
    "sg_gas = 0.65\n",
    "pr = 4409 #psia\n",
    "tr = 140 #psia"
   ]
  },
  {
   "cell_type": "code",
   "execution_count": 7,
   "id": "2bf5045c-c4c2-428f-921c-774fdc7841e2",
   "metadata": {},
   "outputs": [
    {
     "name": "stdout",
     "output_type": "stream",
     "text": [
      "Bubble point pressure is: 3843.66 psia\n"
     ]
    }
   ],
   "source": [
    "# Write your code\n",
    "\n",
    "Pb = pb_std(sg_gas, api, tr, pr, rsb)\n",
    "\n",
    "print(f\"Bubble point pressure is: {Pb:.2f} psia\")"
   ]
  },
  {
   "cell_type": "markdown",
   "id": "f4d698ca-686b-46b1-ada3-8c09b82961e0",
   "metadata": {},
   "source": [
    "## **Test 2**\n",
    "\n",
    "Calcular la solubilidad del gas, utilizando la correlación de Velarde y Standing:"
   ]
  },
  {
   "cell_type": "code",
   "execution_count": 9,
   "id": "c3478f4a-e9ea-42bb-8f6d-6f7940aea385",
   "metadata": {},
   "outputs": [],
   "source": [
    "pb = 3970\n",
    "rsb = 1124 #scf/stb\n",
    "api = 38.982 \n",
    "sg_gas = 0.65\n",
    "pr = 4409 #psia\n",
    "tr = 140 #psia"
   ]
  },
  {
   "cell_type": "code",
   "execution_count": 11,
   "id": "8656c76e-d83d-4613-bb3e-ed9d3633c691",
   "metadata": {},
   "outputs": [
    {
     "name": "stdout",
     "output_type": "stream",
     "text": [
      "Gas solubility is: 1324.56 scf/stb\n"
     ]
    }
   ],
   "source": [
    "# Write your code here\n",
    "\n",
    "rs = rs_std(sg_gas, api, tr, pr)\n",
    "\n",
    "print(f\"Gas solubility is: {rs:.2f} scf/stb\")"
   ]
  },
  {
   "cell_type": "markdown",
   "id": "7dfcba0e-fd0f-4e76-986e-c173062c5b91",
   "metadata": {},
   "source": [
    "---"
   ]
  },
  {
   "cell_type": "markdown",
   "id": "e2c57f80-3e04-4b6e-8087-fc077f829222",
   "metadata": {},
   "source": [
    "## **3. Correlaciones para el Coeficiente de Compresibilidad del Petróleo $C_o$**\n",
    "\n",
    "![PB](Resources/co.png)\\\n",
    "*Figura 4. Compresibilidad de un fluido*"
   ]
  },
  {
   "cell_type": "markdown",
   "id": "12051c24-3f4a-49cc-afca-d6f044c8240e",
   "metadata": {},
   "source": [
    "## *3.1. Correlación de Vasquez-Beggs, $C_o$*\n",
    "\n",
    "La correlación se desarrolló a partir de $\\mathbf{4 0 3 6}$ datos experimentales, generando un modelo de regresión lineal.\n",
    "\n",
    "$$\n",
    "\\begin{gathered}\n",
    "C_o=\\frac{-1433+5 R_{s b}+17.2 T-1180 \\gamma_{g c}+12.61^{\\circ} A P I}{10^5 P} \\\\\n",
    "\\gamma_{g c}=\\gamma_g\\left[1+\\left(5.912 * 10^{-5} \\text { API } T_{\\text {sep }} \\log \\left(\\frac{P_{\\text {sep }}}{114.7}\\right)\\right)\\right]\n",
    "\\end{gathered}\n",
    "$$\n",
    "\n",
    "**Donde:**\n",
    "\n",
    "$\\checkmark C_o=$ Coeficiente de compresibilidad isotérmica del petróleo, $psia^{-1}$\\\n",
    "$\\checkmark R_{s b}=$ Solubilidad del gas en el punto de burbuja, $scf / STB$\\\n",
    "$\\checkmark \\gamma_g=$ Gravedad específica del gas\\\n",
    "$\\checkmark P=$ Presión arriba de la presión del punto de burbuja, $psia$\\\n",
    "$\\checkmark T=$ Temperatura del Sistema, $F$"
   ]
  },
  {
   "cell_type": "code",
   "execution_count": 13,
   "id": "bd3fdcfc-2653-4c72-9912-ce9f76aebe3c",
   "metadata": {},
   "outputs": [],
   "source": [
    "def co_VasquezBeggs(sg, api, T, P, rsb):\n",
    "    \n",
    "    # gravedad específica corregida\n",
    "    #sg_c = sg * (1 + (5.912E-5 * api * Tsep * np.log10(Psep / 114.7)))\n",
    "    \n",
    "    Co = (-1433 + 5 * rsb + 17.2 * T - 1180 * sg + 12.61 * api) / (10E5 * P)\n",
    "    \n",
    "    return Co"
   ]
  },
  {
   "cell_type": "markdown",
   "id": "752592ca-1783-43fe-9f98-6aeedea6750b",
   "metadata": {},
   "source": [
    "## *3.2. Correlación de Petrosky-Farshad's, $C_o$*\n",
    "\n",
    "Propusieron una correlación para determinar la compresibilidad del petróleo para **yacimientos subsaturados.**\n",
    "\n",
    "$C_{\\dot{o}}=1.705 * 10^{-7} R_{S b}{ }^{0.69357} \\gamma_{\\dot{g}}^{0.1885} A P I^{0.3272} T^{0.6729} P^{-0.5906}$\n",
    "\n",
    "**Donde:**\n",
    "\n",
    "$\\checkmark C_o=$ Coeficiente de compresibilidad isotérmica del petróleo $psia^{-1}$\\\n",
    "$\\checkmark R_{s b}=$ Solubilidad del gas en el punto de burbuia, $scf / STB$\\\n",
    "$\\checkmark \\gamma_g=$ Gravedad específica del gas\\\n",
    "$\\checkmark P=$ Presión arriba de la presión del punto de burbuja, $psia$\\\n",
    "$\\checkmark T=$ Temperatura del Sistema, $F$"
   ]
  },
  {
   "cell_type": "code",
   "execution_count": 15,
   "id": "fffa137b-2c73-4e48-a4f0-a9c09df49630",
   "metadata": {},
   "outputs": [],
   "source": [
    "def co_PetFar(sg, api, T, P, rsb):\n",
    "    \n",
    "    Co = 1.705E-7 * (rsb)**0.69357 * (sg)**0.1885 * (api)**0.3272 * (T)**0.6729 * (P)**-0.5906\n",
    "    \n",
    "    return Co"
   ]
  },
  {
   "cell_type": "markdown",
   "id": "d95b67c5-289f-4a33-aa66-9c83deba6736",
   "metadata": {},
   "source": [
    "## **Test 3**\n",
    "\n",
    "Calcular el coeficiente de compresibilidad isotérmico del petróleo, utilizando las correlaciones de Petrosky-Farshad's y Vasquez-Beggs"
   ]
  },
  {
   "cell_type": "code",
   "execution_count": 16,
   "id": "dfe83673-1bff-4e82-8e0c-840315e01fc1",
   "metadata": {},
   "outputs": [],
   "source": [
    "pb = 3970\n",
    "rsb = 1124 #scf/stb\n",
    "api = 38.982 \n",
    "sg_gas = 0.65\n",
    "pr = 4409 #psia\n",
    "tr = 140 #psia"
   ]
  },
  {
   "cell_type": "code",
   "execution_count": 23,
   "id": "3e675d73-a84d-41b1-9db8-6a9327979a73",
   "metadata": {},
   "outputs": [
    {
     "name": "stdout",
     "output_type": "stream",
     "text": [
      "Oil compressibility is: 1.433332506237242e-06 psia^-1\n"
     ]
    }
   ],
   "source": [
    "# Write your code here\n",
    "\n",
    "co_v = co_VasquezBeggs(sg_gas, api, tr, pr, rsb)\n",
    "print(f\"Oil compressibility is: {co_v} psia^-1\")"
   ]
  },
  {
   "cell_type": "code",
   "execution_count": 24,
   "id": "3ac11cc6-e823-498c-9c48-f8250e3f2792",
   "metadata": {},
   "outputs": [
    {
     "name": "stdout",
     "output_type": "stream",
     "text": [
      "Oil compressibility is: 1.3325747304647714e-05 psia^-1\n"
     ]
    }
   ],
   "source": [
    "co_pe = co_PetFar(sg_gas, api, tr, pr, rsb)\n",
    "print(f\"Oil compressibility is: {co_pe} psia^-1\")"
   ]
  },
  {
   "cell_type": "markdown",
   "id": "685e0eda-a75a-41ad-9791-31776644d69d",
   "metadata": {},
   "source": [
    "---"
   ]
  },
  {
   "cell_type": "markdown",
   "id": "808e32a3-ce46-43a3-bf73-cd28b745cfcc",
   "metadata": {},
   "source": [
    "## **4. Correlaciones para el Factor Volumétrico del Petróleo $ B_o$**\n",
    "\n",
    "![Bo](Resources/Bo_plot.png)\\\n",
    "*Figura 5. Factor volumétrico del petróleo*"
   ]
  },
  {
   "cell_type": "markdown",
   "id": "84bf1439-fa9f-471c-b70f-444249b57f4d",
   "metadata": {},
   "source": [
    "## *4.1. Correlación de Standing, $B_o$*\n",
    "\n",
    "En el desarrollo de sus correlaciones **utilizó 105 puntos de datos determinados experimentalmente sobre 22 mezclas diferentes de petróleo y gas procedentes de California.**\n",
    "\n",
    "**Petróleo Saturado $(P<=P_{b})$**\n",
    "\n",
    "$$\n",
    "B_o=0.9759+0.000120\\left[R_S\\left(\\frac{\\gamma_g}{\\gamma_o}\\right)^{0.5}+1.25 T\\right]^{1.2}\n",
    "$$\n",
    "\n",
    "**Petróleo Subsaturado $(P>P_{b})$**\n",
    "\n",
    "$$B_{o}=B_{ob}e^{C_{o}(P_{b}-P)}$$\n",
    "\n",
    "**Donde:**\n",
    "\n",
    "$\\checkmark B_o=$ Factor volumétrico del petróleo, $bbl / STB$\\\n",
    "$\\checkmark R_S=$ Solubilidad del gas, $scf / STB$\\\n",
    "$\\checkmark \\gamma_g=$ Gravedad específica del gas en solución\\\n",
    "$\\checkmark \\gamma_o=$ Gravedad específica del petróleo a condiciones de tanque\\\n",
    "$\\checkmark T=$ Temperatura del Sistema, $F$"
   ]
  },
  {
   "cell_type": "code",
   "execution_count": 38,
   "id": "59de539b-aa65-4cbd-bfcc-45fe7cdf9d41",
   "metadata": {},
   "outputs": [],
   "source": [
    "def bo_std(sg, api, T, P, rsb):\n",
    "    \n",
    "    # sgo\n",
    "    sgo = 141.5 / (131.5 + api)\n",
    "    \n",
    "    # Pb\n",
    "    pb = pb_std(sg, api, T, P, rsb)\n",
    "    \n",
    "    if P <= pb: # Yacimiento saturado\n",
    "        Bo = 0.9759 + 0.000120 * (rs_std(sg, api, T, P) * (sg / sgo)**0.5 + 1.25 * T)**1.2\n",
    "        \n",
    "    else: # Yacimiento subsaturado\n",
    "        # Factor volumétrico en el punto de burbuja\n",
    "        Bob = 0.9759 + 0.000120 * (rs_std(sg, api, T, pb) * (sg / sgo)**0.5 + 1.25 * T)**1.2\n",
    "        \n",
    "        # Coeficiente de compresbilidad isotérmica del petróleo\n",
    "        Co = co_PetFar(sg, api, T, P, rsb)\n",
    "\n",
    "        Bo = Bob * math.e**(Co * (pb - P))\n",
    "    \n",
    "    return Bo"
   ]
  },
  {
   "cell_type": "markdown",
   "id": "e5471b91-624b-4229-8879-61730e88a201",
   "metadata": {},
   "source": [
    "## *4.2. Correlación de Glasso, $B_o$*\n",
    "\n",
    "La correlación se desarrolló a partir de $\\mathbf{4 5}$ muestras de petróleo, principalmente de sistemas de hidrocarburos del mar del norte.\n",
    "\n",
    "**Petróleo Saturado $(P<=P_{b})$**\n",
    "\n",
    "$$\\quad B_o=1.0+10^A$$\n",
    "\n",
    "$$\n",
    "A=-6.58511+2.91329 \\log B_{o b}{ }^*-0.27683\\left(\\log B_{o b}{ }^*\\right)^2\n",
    "$$\n",
    "\n",
    "$$\n",
    "B_{o b}{ }^*=R_s\\left(\\frac{\\gamma_g}{\\gamma_o}\\right)^{0.526}+0.968(T)\n",
    "$$\n",
    "\n",
    "**Petróleo Subsaturado $(P>P_{b})$**\n",
    "\n",
    "$$B_{o}=B_{ob}e^{C_{o}(P_{b}-P)}$$\n",
    "\n",
    "\n",
    "**Donde:**\n",
    "\n",
    "$\\checkmark B_o=$ Facctor volumétrico del petróleo, $bbl / STB$\\\n",
    "$\\checkmark R_s=$ solubilidad del gas, $scf / STB$\\\n",
    "$\\checkmark \\gamma_g=$ Gravedad específica del gas en solución\\\n",
    "$\\checkmark \\gamma_o=$ Gravedad específica del petróleo a condiciones de tanque\\\n",
    "$\\checkmark T=$ Temperatura del Sistema, $F$"
   ]
  },
  {
   "cell_type": "markdown",
   "id": "a5093293-97d2-4a3f-92db-dc4c4eae8613",
   "metadata": {},
   "source": [
    "## **Test 4**\n",
    "\n",
    "Programe la correlación de Glasso, para el cáclulo del factor volumétrico del petróleo, $B_{o}$."
   ]
  },
  {
   "cell_type": "code",
   "execution_count": 25,
   "id": "4ab6d24c-e783-4200-adef-13570f505da6",
   "metadata": {},
   "outputs": [],
   "source": [
    "# Write your code here\n",
    "\n",
    "def bo_glasso(sg, api, T, P, rsb):\n",
    "    \n",
    "    # gravedad especifica del petroleo\n",
    "    sg_o = 141.5 / (131.5 + api)\n",
    "    \n",
    "    # presion del punto de burbuja\n",
    "    pb = pb_std(sg, api, T, P, rsb)\n",
    "    \n",
    "    if P <= pb: # yacimiento saturado\n",
    "        Bobb = rs_std(sg, api, T, P) * (sg / sg_o)**0.526 + 0.968 * T\n",
    "        \n",
    "        # Coeficiente A\n",
    "        A = -6.58511 + 2.91329 * np.log10(Bobb) - 0.27683 * np.log10(Bobb)**2\n",
    "        \n",
    "        Bo = 1.0 + 10**A\n",
    "        \n",
    "    else: # Yacimiento subsaturado\n",
    "        # Factor volumétrico en el punto de burbuja\n",
    "        Bob = 0.9759 + 0.000120 * (rs_std(sg, api, T, pb) * (sg / sgo)**0.5 + 1.25 * T)**1.2\n",
    "        \n",
    "        # Coeficiente de compresbilidad isotérmica del petróleo\n",
    "        Co = co_PetFar(sg, api, T, P, rsb)\n",
    "        \n",
    "        # Factor volumetrico para petroleo subsaturado\n",
    "        Bo = Bob * math.e**(Co * (pb - P))\n",
    "        \n",
    "    return Bo"
   ]
  },
  {
   "cell_type": "markdown",
   "id": "3f8d0880-4253-4fc6-85b5-be1fe1f532b2",
   "metadata": {},
   "source": [
    "## **Test 5**\n",
    "\n",
    "a) Construya un Dataframe que contenga los valores $R_{s}$, $B_{o}$ y $C_{o}$ en función de la presión del sistema desde el reservorio hasta el tanque en superficie. Utilice los siguientes datos:\n",
    "\n",
    "b) Grafique estas 3 propiedades PVT en función de la presión"
   ]
  },
  {
   "cell_type": "code",
   "execution_count": 26,
   "id": "519d662b-3675-4966-952a-aaf95bbfd6ad",
   "metadata": {},
   "outputs": [],
   "source": [
    "pb = 3970\n",
    "rsb = 1124 #scf/stb\n",
    "api = 38.982 \n",
    "sg_gas = 0.65\n",
    "pr = 4409 #psia\n",
    "tr = 140 #psia"
   ]
  },
  {
   "cell_type": "markdown",
   "id": "a7c17dd4-3bf6-462e-8b33-cdeb3bc73e66",
   "metadata": {},
   "source": [
    "### a) Construir Dataframe -> Reporte PVT"
   ]
  },
  {
   "cell_type": "code",
   "execution_count": 34,
   "id": "58346fbe-e5cc-4592-9716-e0f0965cbff0",
   "metadata": {},
   "outputs": [],
   "source": [
    "# Arreglo de presiones\n",
    "p_array = np.arange(4410, 15.7, -10)\n",
    "\n",
    "# Añadir valor de Patm\n",
    "p_array = np.append(p_array, 14.7)\n",
    "\n",
    "# Reemplazo por valor de Pr\n",
    "p_array[0] = 4409\n",
    "\n",
    "pvt_df = pd.DataFrame()"
   ]
  },
  {
   "cell_type": "code",
   "execution_count": 41,
   "id": "62efd544-5a0b-4f52-823d-eb0cde27ea9b",
   "metadata": {},
   "outputs": [
    {
     "data": {
      "text/html": [
       "<div>\n",
       "<style scoped>\n",
       "    .dataframe tbody tr th:only-of-type {\n",
       "        vertical-align: middle;\n",
       "    }\n",
       "\n",
       "    .dataframe tbody tr th {\n",
       "        vertical-align: top;\n",
       "    }\n",
       "\n",
       "    .dataframe thead th {\n",
       "        text-align: right;\n",
       "    }\n",
       "</style>\n",
       "<table border=\"1\" class=\"dataframe\">\n",
       "  <thead>\n",
       "    <tr style=\"text-align: right;\">\n",
       "      <th></th>\n",
       "      <th>P (psia)</th>\n",
       "      <th>T (F)</th>\n",
       "      <th>Rs (scf/stb)</th>\n",
       "      <th>Bo (rb/stb)</th>\n",
       "      <th>Co (1/psia)</th>\n",
       "    </tr>\n",
       "  </thead>\n",
       "  <tbody>\n",
       "    <tr>\n",
       "      <th>0</th>\n",
       "      <td>4409.0</td>\n",
       "      <td>140</td>\n",
       "      <td>1324.563654</td>\n",
       "      <td>1.540762</td>\n",
       "      <td>0.000013</td>\n",
       "    </tr>\n",
       "    <tr>\n",
       "      <th>1</th>\n",
       "      <td>4400.0</td>\n",
       "      <td>140</td>\n",
       "      <td>1321.325502</td>\n",
       "      <td>1.540933</td>\n",
       "      <td>0.000013</td>\n",
       "    </tr>\n",
       "    <tr>\n",
       "      <th>2</th>\n",
       "      <td>4390.0</td>\n",
       "      <td>140</td>\n",
       "      <td>1317.729136</td>\n",
       "      <td>1.541124</td>\n",
       "      <td>0.000013</td>\n",
       "    </tr>\n",
       "    <tr>\n",
       "      <th>3</th>\n",
       "      <td>4380.0</td>\n",
       "      <td>140</td>\n",
       "      <td>1314.134439</td>\n",
       "      <td>1.541315</td>\n",
       "      <td>0.000013</td>\n",
       "    </tr>\n",
       "    <tr>\n",
       "      <th>4</th>\n",
       "      <td>4370.0</td>\n",
       "      <td>140</td>\n",
       "      <td>1310.541411</td>\n",
       "      <td>1.541506</td>\n",
       "      <td>0.000013</td>\n",
       "    </tr>\n",
       "    <tr>\n",
       "      <th>...</th>\n",
       "      <td>...</td>\n",
       "      <td>...</td>\n",
       "      <td>...</td>\n",
       "      <td>...</td>\n",
       "      <td>...</td>\n",
       "    </tr>\n",
       "    <tr>\n",
       "      <th>436</th>\n",
       "      <td>50.0</td>\n",
       "      <td>140</td>\n",
       "      <td>9.789683</td>\n",
       "      <td>1.038418</td>\n",
       "      <td>0.000188</td>\n",
       "    </tr>\n",
       "    <tr>\n",
       "      <th>437</th>\n",
       "      <td>40.0</td>\n",
       "      <td>140</td>\n",
       "      <td>8.249060</td>\n",
       "      <td>1.037862</td>\n",
       "      <td>0.000214</td>\n",
       "    </tr>\n",
       "    <tr>\n",
       "      <th>438</th>\n",
       "      <td>30.0</td>\n",
       "      <td>140</td>\n",
       "      <td>6.756042</td>\n",
       "      <td>1.037323</td>\n",
       "      <td>0.000254</td>\n",
       "    </tr>\n",
       "    <tr>\n",
       "      <th>439</th>\n",
       "      <td>20.0</td>\n",
       "      <td>140</td>\n",
       "      <td>5.317394</td>\n",
       "      <td>1.036805</td>\n",
       "      <td>0.000323</td>\n",
       "    </tr>\n",
       "    <tr>\n",
       "      <th>440</th>\n",
       "      <td>14.7</td>\n",
       "      <td>140</td>\n",
       "      <td>4.580026</td>\n",
       "      <td>1.036540</td>\n",
       "      <td>0.000387</td>\n",
       "    </tr>\n",
       "  </tbody>\n",
       "</table>\n",
       "<p>441 rows × 5 columns</p>\n",
       "</div>"
      ],
      "text/plain": [
       "     P (psia)  T (F)  Rs (scf/stb)  Bo (rb/stb)  Co (1/psia)\n",
       "0      4409.0    140   1324.563654     1.540762     0.000013\n",
       "1      4400.0    140   1321.325502     1.540933     0.000013\n",
       "2      4390.0    140   1317.729136     1.541124     0.000013\n",
       "3      4380.0    140   1314.134439     1.541315     0.000013\n",
       "4      4370.0    140   1310.541411     1.541506     0.000013\n",
       "..        ...    ...           ...          ...          ...\n",
       "436      50.0    140      9.789683     1.038418     0.000188\n",
       "437      40.0    140      8.249060     1.037862     0.000214\n",
       "438      30.0    140      6.756042     1.037323     0.000254\n",
       "439      20.0    140      5.317394     1.036805     0.000323\n",
       "440      14.7    140      4.580026     1.036540     0.000387\n",
       "\n",
       "[441 rows x 5 columns]"
      ]
     },
     "execution_count": 41,
     "metadata": {},
     "output_type": "execute_result"
    }
   ],
   "source": [
    "# LLenado de dataframe\n",
    "# Columna de presiones\n",
    "pvt_df[\"P (psia)\"] = p_array\n",
    "\n",
    "# Columna de temperaturas\n",
    "pvt_df[\"T (F)\"] = tr\n",
    "pvt_df\n",
    "\n",
    "# Columna de solubilidad del gas\n",
    "pvt_df[\"Rs (scf/stb)\"] = pvt_df[\"P (psia)\"].apply(lambda row: rs_std(sg_gas, api, tr, row))\n",
    "\n",
    "# Columna de factor volumetrico del petroleo\n",
    "pvt_df[\"Bo (rb/stb)\"] = pvt_df[\"P (psia)\"].apply(lambda row: bo_std(sg_gas, api, tr, row, rsb))\n",
    "\n",
    "# Columna del coeficiente de compresibilidad del petroleo\n",
    "pvt_df[\"Co (1/psia)\"] = pvt_df[\"P (psia)\"].apply(lambda row: co_PetFar(sg_gas, api, tr, row, rsb))\n",
    "pvt_df"
   ]
  },
  {
   "cell_type": "markdown",
   "id": "20a49487-56dd-4e98-971c-31aa39418437",
   "metadata": {},
   "source": [
    "### b) Plots PVT Properties"
   ]
  },
  {
   "cell_type": "code",
   "execution_count": 43,
   "id": "ce00bc5a-57ce-432c-85ca-b84ed479e290",
   "metadata": {},
   "outputs": [],
   "source": [
    "# Transformar a arreglos de Numpy a columnas de interes\n",
    "np_rs = pvt_df[\"Rs (scf/stb)\"].values\n",
    "np_bo = pvt_df[\"Bo (rb/stb)\"].values\n",
    "np_co = pvt_df[\"Co (1/psia)\"].values"
   ]
  },
  {
   "cell_type": "code",
   "execution_count": 64,
   "id": "c930ebc0-c8a6-4831-8aa4-ed9f7d8f78ee",
   "metadata": {},
   "outputs": [
    {
     "data": {
      "image/png": "[encoded data removed]",
      "text/plain": [
       "<Figure size 1200x800 with 1 Axes>"
      ]
     },
     "metadata": {},
     "output_type": "display_data"
    }
   ],
   "source": [
    "# Rs Vs P\n",
    "\n",
    "fig, ax = plt.subplots(figsize=(12, 8))\n",
    "\n",
    "ax.plot(p_array, np_rs)\n",
    "\n",
    "ax.set_xlabel(\"Presion (psia)\")\n",
    "ax.set_ylabel(\"$R_{s}$ (scf/stb)\")\n",
    "\n",
    "ax.xaxis.set_minor_locator(AutoMinorLocator(10))\n",
    "ax.yaxis.set_minor_locator(AutoMinorLocator(10))\n",
    "\n",
    "plt.show()"
   ]
  },
  {
   "cell_type": "code",
   "execution_count": 76,
   "id": "a0924aac-7ffd-4a06-a1f6-8c61721b486e",
   "metadata": {},
   "outputs": [
    {
     "data": {
      "image/png": "[encoded data removed]",
      "text/plain": [
       "<Figure size 1200x800 with 1 Axes>"
      ]
     },
     "metadata": {},
     "output_type": "display_data"
    }
   ],
   "source": [
    "# Bo Vs P\n",
    "pb = pb_std(sg_gas, api, tr, pr, rsb)\n",
    "Bob = bo_std(sg_gas, api, tr, pb, rsb)\n",
    "\n",
    "fig, ax = plt.subplots(figsize=(12, 8))\n",
    "\n",
    "ax.plot(p_array, np_bo, color=\"red\")\n",
    "\n",
    "ax.set_xlabel(\"Presion (psia)\")\n",
    "ax.set_ylabel(\"$B_{o}$ (rb/stb)\")\n",
    "\n",
    "ax.xaxis.set_minor_locator(AutoMinorLocator(10))\n",
    "\n",
    "ax.axvline(pb, ymax=Bob, ls=\"--\", c=\"k\")\n",
    "ax.axhline(Bob, xmax=pb, ls=\"--\", c=\"k\")\n",
    "\n",
    "plt.show()"
   ]
  },
  {
   "cell_type": "code",
   "execution_count": 66,
   "id": "27a0020b-3bbb-4845-bedb-bd3e5e3f4d15",
   "metadata": {},
   "outputs": [
    {
     "data": {
      "image/png": "[encoded data removed]",
      "text/plain": [
       "<Figure size 1200x800 with 1 Axes>"
      ]
     },
     "metadata": {},
     "output_type": "display_data"
    }
   ],
   "source": [
    "# Co Vs P\n",
    "\n",
    "fig, ax = plt.subplots(figsize=(12, 8))\n",
    "\n",
    "ax.plot(p_array, np_co, color=\"green\")\n",
    "\n",
    "ax.set_xlabel(\"Presion (psia)\")\n",
    "ax.set_ylabel(\"$C_{o}$ (1/psia)\")\n",
    "\n",
    "ax.xaxis.set_minor_locator(AutoMinorLocator(10))\n",
    "\n",
    "plt.show()"
   ]
  },
  {
   "cell_type": "markdown",
   "id": "6f27c374-6f78-48a7-a75b-b188c48c80e4",
   "metadata": {},
   "source": [
    "---"
   ]
  },
  {
   "cell_type": "markdown",
   "id": "3d73aec0-34f5-4151-a907-1609208150d6",
   "metadata": {},
   "source": [
    "## **5. Correlaciones para la Densidad del Petróleo $\\rho_o$**\n",
    "\n",
    "![density](Resources/rho.gif)\\\n",
    "*figure 6. Oil Density*"
   ]
  },
  {
   "cell_type": "markdown",
   "id": "c1618438-98dd-4953-87ed-e61d7fb8383c",
   "metadata": {},
   "source": [
    "## *5.1. Correlación de Standing, $\\rho_o$*\n",
    "\n",
    "En el desarrollo de sus correlaciones utilizó 105 puntos de datos determinados experimentalmente sobre 22 mezclas diferentes de petróleo y gas procedentes de California.\n",
    "\n",
    "**Petróleo Saturado $(P<=P_{b})$**\n",
    "\n",
    "$$\n",
    "\\rho_o=\\frac{\\left(62.4 \\gamma_o+0.0136 R_s \\gamma_g\\right)}{0.972+0.000147\\left[R_s\\left(\\gamma_g / \\gamma_o\\right)^{0.25}+1.25 T\\right]^{1.175}}\n",
    "$$\n",
    "\n",
    "**Petróleo Subsaturado $(P>P_{b})$**\n",
    "\n",
    "$$\\rho_{o}=\\rho_{ob}e^{C_{o}(P_{b}-P)}$$\n",
    "\n",
    "\n",
    "**Donde:**\n",
    "\n",
    "$\\checkmark \\rho_o=$ Densidad del petróleo, $\\mathrm{lb} / ft^3$\\\n",
    "$\\checkmark R_s=$ Solubilidad del gas, $scf / STB$\\\n",
    "$\\checkmark \\gamma_g=$ Gravedad específica del gas\\\n",
    "$\\checkmark \\gamma_o=$ Gravedad específica del petróleo a condiciones de tanque\\\n",
    "$\\checkmark T=$ Temperatura del Sistema, $\\mathrm{F}$"
   ]
  },
  {
   "cell_type": "markdown",
   "id": "2e042ffb-e6e4-4380-81d7-17ff0fa6672e",
   "metadata": {},
   "source": [
    "## **Test 6**\n",
    "\n",
    "Programe la correlación de Standing, para el cáclulo de **la densidad del petróleo $\\rho_{o}$**, tanto para yacimientos saturados y subsaturados."
   ]
  },
  {
   "cell_type": "code",
   "execution_count": null,
   "id": "5e333628-47f6-40f3-a54f-9b7e0ade4e02",
   "metadata": {},
   "outputs": [],
   "source": [
    "# Write your code here\n",
    "\n"
   ]
  },
  {
   "cell_type": "markdown",
   "id": "6bd9ff3b-4309-4afa-ac57-4af48f9762d0",
   "metadata": {},
   "source": [
    "---"
   ]
  },
  {
   "cell_type": "markdown",
   "id": "2141739f-a4d1-4811-84ac-a79c5dfb5ccf",
   "metadata": {},
   "source": [
    "## **6. Correlaciones para la viscosidad del Petróleo $\\mu_o$**\n",
    "\n",
    "![uo](Resources/uo.gif)\\\n",
    "*Figura 7. Viscosidad de fluidos líquidos*"
   ]
  },
  {
   "cell_type": "markdown",
   "id": "40399bfa-e9ff-4afd-827a-6b5fb9e56be5",
   "metadata": {},
   "source": [
    "## *6.1. Correlación de Beggs-Robinson, $\\mu_{od}$*\n",
    "\n",
    "Desarrollaron una correlación empírica para determinar la viscosidad del petróleo muerto, a partir del análisis de 460 mediciones de esta propiedad.\n",
    "\n",
    "$$\n",
    "\\begin{gathered}\n",
    "\\mu_{o d}=10^x-1.0 \\\\\n",
    "x=10^{(3.0324-0.02023 A P I) T^{-1.163}}\n",
    "\\end{gathered}\n",
    "$$\n",
    "\n",
    "**Donde:**\n",
    "\n",
    "$\\checkmark \\mu_{o d}=$ Viscosidad del petróleo muerto, $cp$\n",
    "$\\checkmark T=$ Temperatura, $F$"
   ]
  },
  {
   "cell_type": "code",
   "execution_count": null,
   "id": "8af85704-0bf0-4a44-9a57-bc53bf312c08",
   "metadata": {},
   "outputs": [],
   "source": [
    "# Write your code here\n"
   ]
  },
  {
   "cell_type": "markdown",
   "id": "a3692242-4757-4fa6-8fd8-a061c9c49005",
   "metadata": {},
   "source": [
    "## *6.2. Correlación de Beggs-Robinson, $\\mu_{ob}$*\n",
    "\n",
    "Desarrollaron una correlación empírica para determinar la viscosidad del petróleo saturado, a partir de 2073 mediciones de la viscosidad del petróleo.\n",
    "\n",
    "$$\n",
    "\\begin{gathered}\n",
    "\\mu_{o b}=a\\left(\\mu_{o d}\\right)^b \\\\\n",
    "a=10.715\\left(R_s+100\\right)^{-0.515} \\\\\n",
    "b=5.44\\left(R_s+150\\right)^{-0.338}\n",
    "\\end{gathered}\n",
    "$$\n",
    "\n",
    "**Donde:**\n",
    "\n",
    "$\\checkmark \\mu_{o b}=$ Viscosidad del petróleo saturado, $cp$\\\n",
    "$\\checkmark R_s=$ Solubilidad del gas; $scf / STB$\\\n",
    "$\\checkmark \\mu_{o d}=$ Viscosidad del petróleo muerto, $cp$"
   ]
  },
  {
   "cell_type": "code",
   "execution_count": null,
   "id": "73553b01-0925-45ff-934a-bf9b59b03d32",
   "metadata": {},
   "outputs": [],
   "source": [
    "# Write your code here\n",
    "\n"
   ]
  },
  {
   "cell_type": "markdown",
   "id": "2a59a5e9-ac85-4c7f-bd33-6b59a94b6d07",
   "metadata": {},
   "source": [
    "## *6.3. Correlación de Vasquez-Beggs, $\\mu_{o}$*\n",
    "\n",
    "Desarrollaron una expresión matemática para estimar la viscosidad del petróleo subsaturado, a partir de 3593 datos analizados.\n",
    "\n",
    "$$\n",
    "\\mu_o=\\mu_{o b}\\left(\\frac{P}{P_b}\\right)^m\n",
    "$$\n",
    "\n",
    "**Donde:**\n",
    "\n",
    "$\\checkmark \\mu_o=$ Viscosidad del petróleo, $cp$\\\n",
    "$\\checkmark P_b=$ Presión del punto de burbuja, $psia$\\\n",
    "$\\checkmark P=$ Presión del sistema, $psia$\\\n",
    "$\\checkmark \\mu_{ob}=$ Viscosidad del petróleo saturado, $cp$"
   ]
  },
  {
   "cell_type": "code",
   "execution_count": null,
   "id": "53e5096c-0ef1-49a6-8b8a-103b1e390138",
   "metadata": {},
   "outputs": [],
   "source": [
    "# Write your code here\n",
    "\n"
   ]
  }
 ],
 "metadata": {
  "kernelspec": {
   "display_name": "Python 3 (ipykernel)",
   "language": "python",
   "name": "python3"
  },
  "language_info": {
   "codemirror_mode": {
    "name": "ipython",
    "version": 3
   },
   "file_extension": ".py",
   "mimetype": "text/x-python",
   "name": "python",
   "nbconvert_exporter": "python",
   "pygments_lexer": "ipython3",
   "version": "3.10.12"
  }
 },
 "nbformat": 4,
 "nbformat_minor": 5
}
