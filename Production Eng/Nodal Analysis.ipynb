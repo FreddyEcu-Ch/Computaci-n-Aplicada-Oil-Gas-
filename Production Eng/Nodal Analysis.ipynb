{
 "cells": [
  {
   "cell_type": "markdown",
   "metadata": {
    "pycharm": {
     "name": "#%% md\n"
    }
   },
   "source": [
    "# **Production Engineering**"
   ]
  },
  {
   "cell_type": "markdown",
   "metadata": {
    "pycharm": {
     "name": "#%% md\n"
    }
   },
   "source": [
    "# *Nodal Analysis*"
   ]
  },
  {
   "cell_type": "markdown",
   "metadata": {
    "pycharm": {
     "name": "#%% md\n"
    }
   },
   "source": [
    "***"
   ]
  },
  {
   "cell_type": "markdown",
   "metadata": {
    "pycharm": {
     "name": "#%% md\n"
    }
   },
   "source": [
    "# 1. Python Libraries"
   ]
  },
  {
   "cell_type": "code",
   "execution_count": 2,
   "metadata": {
    "pycharm": {
     "name": "#%%\n"
    }
   },
   "outputs": [],
   "source": [
    "import numpy as np\n",
    "import pandas as pd\n",
    "import matplotlib.pyplot as plt\n",
    "from utilities import j, j_darcy, aof, Qb, qo_darcy, qo_vogel, qo_standing, qo_ipr_compuesto, IPR_Curve, IPR_curve_methods\n",
    "import plotly.express as px"
   ]
  },
  {
   "cell_type": "markdown",
   "metadata": {
    "pycharm": {
     "name": "#%% md\n"
    }
   },
   "source": [
    "# 2. Important Functions for Nodal Analysis"
   ]
  },
  {
   "cell_type": "code",
   "execution_count": 3,
   "metadata": {
    "pycharm": {
     "name": "#%%\n"
    }
   },
   "outputs": [],
   "source": [
    "def pwf_darcy(q_test, pwf_test, q, pr, pb):\n",
    "    pwf = pr - (q / j(q_test, pwf_test, pr, pb))\n",
    "    return pwf"
   ]
  },
  {
   "cell_type": "code",
   "execution_count": 4,
   "metadata": {
    "pycharm": {
     "name": "#%%\n"
    }
   },
   "outputs": [],
   "source": [
    "# Pwf when Pr < Pb (Saturated reservoir)\n",
    "def pwf_vogel(q_test, pwf_test, q, pr, pb):\n",
    "    pwf = 0.125 * pr * (-1 + np.sqrt(81 - 80 * q / aof(q_test, pwf_test, pr, pb)))\n",
    "    return pwf"
   ]
  },
  {
   "cell_type": "code",
   "execution_count": 6,
   "metadata": {
    "pycharm": {
     "name": "#%%\n"
    }
   },
   "outputs": [],
   "source": [
    "# Friction factor (f) from Hanzel Williams equation\n",
    "def f_hanzenW(Q, ID, C=120):\n",
    "    f = (2.083 * (((100 * Q)/(34.3 * C))**1.85 * (1 / ID)**4.8655)) / 1000\n",
    "    return f"
   ]
  },
  {
   "cell_type": "code",
   "execution_count": 7,
   "metadata": {
    "pycharm": {
     "name": "#%%\n"
    }
   },
   "outputs": [],
   "source": [
    "# SGOil using API\n",
    "def sg_oil(API):\n",
    "    SG_oil = 141.5 / (131.5 + API)\n",
    "    return SG_oil"
   ]
  },
  {
   "cell_type": "code",
   "execution_count": 8,
   "metadata": {
    "pycharm": {
     "name": "#%%\n"
    }
   },
   "outputs": [],
   "source": [
    "# SG average of fluids\n",
    "def sg_avg(API, wc, sg_h2o):\n",
    "    sg_avg = wc * sg_h2o + (1-wc) * sg_oil(API)\n",
    "    return sg_avg"
   ]
  },
  {
   "cell_type": "code",
   "execution_count": 9,
   "metadata": {
    "pycharm": {
     "name": "#%%\n"
    }
   },
   "outputs": [],
   "source": [
    "# Average Gradient using fresh water gradient (0.433 psi/ft)\n",
    "def gradient_avg(API, wc, sg_h2o):\n",
    "    g_avg = sg_avg(API, wc, sg_h2o) * 0.433\n",
    "    return g_avg"
   ]
  },
  {
   "cell_type": "markdown",
   "metadata": {
    "pycharm": {
     "name": "#%% md\n"
    }
   },
   "source": [
    "# 3. Monofasic Fluid Flow"
   ]
  },
  {
   "cell_type": "markdown",
   "metadata": {
    "pycharm": {
     "name": "#%% md\n"
    }
   },
   "source": [
    "# 3.1. Exercises"
   ]
  },
  {
   "cell_type": "markdown",
   "metadata": {
    "pycharm": {
     "name": "#%% md\n"
    }
   },
   "source": [
    "## *Ejercicio 1*\n",
    "\n",
    "En base a la información de la tabla:\n",
    "\n",
    "a) Calcule IP\\\n",
    "b) Calcule Qmax\\\n",
    "c) Calcule la gravedad específica promedio del fluido\\\n",
    "d) Calcule el gradiente promedio del fluido"
   ]
  },
  {
   "cell_type": "code",
   "execution_count": 52,
   "metadata": {
    "pycharm": {
     "name": "#%%\n"
    }
   },
   "outputs": [],
   "source": [
    "# Data\n",
    "Pr = 3000 #psia\n",
    "Pb = 2300 # psia\n",
    "Qt = 1500 #bpd\n",
    "Pwft = 2400 #psia\n",
    "THP = 360 #psia\n",
    "wc = 0.9 \n",
    "API = 20 \n",
    "sg_h2o = 1.09\n",
    "ID = 3.5 #in\n",
    "tvd = 9000 #ft\n",
    "md = 10500 #ft \n",
    "C = 120"
   ]
  },
  {
   "cell_type": "markdown",
   "metadata": {
    "pycharm": {
     "name": "#%% md\n"
    }
   },
   "source": [
    "## a) IP"
   ]
  },
  {
   "cell_type": "code",
   "execution_count": 53,
   "metadata": {
    "pycharm": {
     "name": "#%%\n"
    }
   },
   "outputs": [
    {
     "name": "stdout",
     "output_type": "stream",
     "text": [
      "IP -> 2.5 bpd/psia\n"
     ]
    }
   ],
   "source": [
    "IP = j(Qt, Pwft, Pr, Pb)\n",
    "print(f\"IP -> {IP} bpd/psia\")"
   ]
  },
  {
   "cell_type": "markdown",
   "metadata": {
    "pycharm": {
     "name": "#%% md\n"
    }
   },
   "source": [
    "## b) Qmax"
   ]
  },
  {
   "cell_type": "code",
   "execution_count": 54,
   "metadata": {
    "pycharm": {
     "name": "#%%\n"
    }
   },
   "outputs": [
    {
     "name": "stdout",
     "output_type": "stream",
     "text": [
      "Qmax -> 7500.0 bpd\n"
     ]
    }
   ],
   "source": [
    "Qmax =  aof(Qt, Pwft, Pr, Pb)\n",
    "print(f\"Qmax -> {Qmax} bpd\")"
   ]
  },
  {
   "cell_type": "markdown",
   "metadata": {
    "pycharm": {
     "name": "#%% md\n"
    }
   },
   "source": [
    "## c) SGavg"
   ]
  },
  {
   "cell_type": "code",
   "execution_count": 55,
   "metadata": {
    "pycharm": {
     "name": "#%%\n"
    }
   },
   "outputs": [
    {
     "name": "stdout",
     "output_type": "stream",
     "text": [
      "SGavg -> 1.07\n"
     ]
    }
   ],
   "source": [
    "SGavg = sg_avg(API, wc, sg_h2o)\n",
    "print(f\"SGavg -> {SGavg:.2f}\")"
   ]
  },
  {
   "cell_type": "markdown",
   "metadata": {
    "pycharm": {
     "name": "#%% md\n"
    }
   },
   "source": [
    "## d) Gavg"
   ]
  },
  {
   "cell_type": "code",
   "execution_count": 56,
   "metadata": {
    "pycharm": {
     "name": "#%%\n"
    }
   },
   "outputs": [
    {
     "name": "stdout",
     "output_type": "stream",
     "text": [
      "Gavg -> 0.47 psi/ft\n"
     ]
    }
   ],
   "source": [
    "Gavg = gradient_avg(API, wc, sg_h2o)\n",
    "print(f\"Gavg -> {Gavg:.2f} psi/ft\")"
   ]
  },
  {
   "cell_type": "markdown",
   "metadata": {
    "pycharm": {
     "name": "#%% md\n"
    }
   },
   "source": [
    "## e) Complete the table of values of P VS flow rate to calculate inflow and outflow pressures"
   ]
  },
  {
   "cell_type": "code",
   "execution_count": 57,
   "metadata": {
    "pycharm": {
     "name": "#%%\n"
    }
   },
   "outputs": [],
   "source": [
    "columns = ['Q(bpd)', 'Pwf(psia)', 'THP(psia)', 'Pgravity(psia)', 'f', 'F(ft)', 'Pf(psia)', 'Po(psia)', 'Psys(psia)']\n",
    "df = pd.DataFrame(columns=columns)\n",
    "\n",
    "# Here the AOF is divided per 10 in order to evaluate the pwf for these 10 different flow rates\n",
    "df[columns[0]] = np.array([0, 750, 1400, 2250, 3000, 3750, 4500, 5250, 6000, 6750, 7500])\n",
    "df[columns[1]] = df['Q(bpd)'].apply(lambda row: pwf_darcy(Qt, Pwft, row, Pr, Pb))\n",
    "df[columns[2]] = THP\n",
    "df[columns[3]] = gradient_avg(API, wc, sg_h2o) * tvd\n",
    "df[columns[4]] = df['Q(bpd)'].apply(lambda x: f_hanzenW(x, ID, C))\n",
    "df[columns[5]] = df['f'] * md\n",
    "df[columns[6]] = gradient_avg(API, wc, sg_h2o) * df['F(ft)']\n",
    "df[columns[7]] = df['THP(psia)'] + df['Pgravity(psia)'] + df['Pf(psia)']\n",
    "df[columns[8]] = df['Po(psia)'] - df['Pwf(psia)']"
   ]
  },
  {
   "cell_type": "code",
   "execution_count": 58,
   "metadata": {
    "pycharm": {
     "name": "#%%\n"
    }
   },
   "outputs": [
    {
     "data": {
      "text/html": [
       "<div>\n",
       "<style scoped>\n",
       "    .dataframe tbody tr th:only-of-type {\n",
       "        vertical-align: middle;\n",
       "    }\n",
       "\n",
       "    .dataframe tbody tr th {\n",
       "        vertical-align: top;\n",
       "    }\n",
       "\n",
       "    .dataframe thead th {\n",
       "        text-align: right;\n",
       "    }\n",
       "</style>\n",
       "<table border=\"1\" class=\"dataframe\">\n",
       "  <thead>\n",
       "    <tr style=\"text-align: right;\">\n",
       "      <th></th>\n",
       "      <th>Q(bpd)</th>\n",
       "      <th>Pwf(psia)</th>\n",
       "      <th>THP(psia)</th>\n",
       "      <th>Pgravity(psia)</th>\n",
       "      <th>f</th>\n",
       "      <th>F(ft)</th>\n",
       "      <th>Pf(psia)</th>\n",
       "      <th>Po(psia)</th>\n",
       "      <th>Psys(psia)</th>\n",
       "    </tr>\n",
       "  </thead>\n",
       "  <tbody>\n",
       "    <tr>\n",
       "      <th>0</th>\n",
       "      <td>0</td>\n",
       "      <td>3000.0</td>\n",
       "      <td>360</td>\n",
       "      <td>4186.934228</td>\n",
       "      <td>0.000000</td>\n",
       "      <td>0.000000</td>\n",
       "      <td>0.000000</td>\n",
       "      <td>4546.934228</td>\n",
       "      <td>1546.934228</td>\n",
       "    </tr>\n",
       "    <tr>\n",
       "      <th>1</th>\n",
       "      <td>750</td>\n",
       "      <td>2700.0</td>\n",
       "      <td>360</td>\n",
       "      <td>4186.934228</td>\n",
       "      <td>0.001008</td>\n",
       "      <td>10.587646</td>\n",
       "      <td>4.925531</td>\n",
       "      <td>4551.859759</td>\n",
       "      <td>1851.859759</td>\n",
       "    </tr>\n",
       "    <tr>\n",
       "      <th>2</th>\n",
       "      <td>1400</td>\n",
       "      <td>2440.0</td>\n",
       "      <td>360</td>\n",
       "      <td>4186.934228</td>\n",
       "      <td>0.003200</td>\n",
       "      <td>33.594868</td>\n",
       "      <td>15.628834</td>\n",
       "      <td>4562.563061</td>\n",
       "      <td>2122.563061</td>\n",
       "    </tr>\n",
       "    <tr>\n",
       "      <th>3</th>\n",
       "      <td>2250</td>\n",
       "      <td>2100.0</td>\n",
       "      <td>360</td>\n",
       "      <td>4186.934228</td>\n",
       "      <td>0.007696</td>\n",
       "      <td>80.811605</td>\n",
       "      <td>37.594764</td>\n",
       "      <td>4584.528991</td>\n",
       "      <td>2484.528991</td>\n",
       "    </tr>\n",
       "    <tr>\n",
       "      <th>4</th>\n",
       "      <td>3000</td>\n",
       "      <td>1800.0</td>\n",
       "      <td>360</td>\n",
       "      <td>4186.934228</td>\n",
       "      <td>0.013105</td>\n",
       "      <td>137.597452</td>\n",
       "      <td>64.012387</td>\n",
       "      <td>4610.946615</td>\n",
       "      <td>2810.946615</td>\n",
       "    </tr>\n",
       "    <tr>\n",
       "      <th>5</th>\n",
       "      <td>3750</td>\n",
       "      <td>1500.0</td>\n",
       "      <td>360</td>\n",
       "      <td>4186.934228</td>\n",
       "      <td>0.019802</td>\n",
       "      <td>207.918875</td>\n",
       "      <td>96.726962</td>\n",
       "      <td>4643.661189</td>\n",
       "      <td>3143.661189</td>\n",
       "    </tr>\n",
       "    <tr>\n",
       "      <th>6</th>\n",
       "      <td>4500</td>\n",
       "      <td>1200.0</td>\n",
       "      <td>360</td>\n",
       "      <td>4186.934228</td>\n",
       "      <td>0.027745</td>\n",
       "      <td>291.325984</td>\n",
       "      <td>135.529193</td>\n",
       "      <td>4682.463421</td>\n",
       "      <td>3482.463421</td>\n",
       "    </tr>\n",
       "    <tr>\n",
       "      <th>7</th>\n",
       "      <td>5250</td>\n",
       "      <td>900.0</td>\n",
       "      <td>360</td>\n",
       "      <td>4186.934228</td>\n",
       "      <td>0.036901</td>\n",
       "      <td>387.463488</td>\n",
       "      <td>180.253793</td>\n",
       "      <td>4727.188021</td>\n",
       "      <td>3827.188021</td>\n",
       "    </tr>\n",
       "    <tr>\n",
       "      <th>8</th>\n",
       "      <td>6000</td>\n",
       "      <td>600.0</td>\n",
       "      <td>360</td>\n",
       "      <td>4186.934228</td>\n",
       "      <td>0.047242</td>\n",
       "      <td>496.039071</td>\n",
       "      <td>230.764774</td>\n",
       "      <td>4777.699001</td>\n",
       "      <td>4177.699001</td>\n",
       "    </tr>\n",
       "    <tr>\n",
       "      <th>9</th>\n",
       "      <td>6750</td>\n",
       "      <td>300.0</td>\n",
       "      <td>360</td>\n",
       "      <td>4186.934228</td>\n",
       "      <td>0.058743</td>\n",
       "      <td>616.805236</td>\n",
       "      <td>286.946995</td>\n",
       "      <td>4833.881223</td>\n",
       "      <td>4533.881223</td>\n",
       "    </tr>\n",
       "    <tr>\n",
       "      <th>10</th>\n",
       "      <td>7500</td>\n",
       "      <td>0.0</td>\n",
       "      <td>360</td>\n",
       "      <td>4186.934228</td>\n",
       "      <td>0.071386</td>\n",
       "      <td>749.547930</td>\n",
       "      <td>348.700876</td>\n",
       "      <td>4895.635104</td>\n",
       "      <td>4895.635104</td>\n",
       "    </tr>\n",
       "  </tbody>\n",
       "</table>\n",
       "</div>"
      ],
      "text/plain": [
       "    Q(bpd)  Pwf(psia)  THP(psia)  Pgravity(psia)         f       F(ft)   \n",
       "0        0     3000.0        360     4186.934228  0.000000    0.000000  \\\n",
       "1      750     2700.0        360     4186.934228  0.001008   10.587646   \n",
       "2     1400     2440.0        360     4186.934228  0.003200   33.594868   \n",
       "3     2250     2100.0        360     4186.934228  0.007696   80.811605   \n",
       "4     3000     1800.0        360     4186.934228  0.013105  137.597452   \n",
       "5     3750     1500.0        360     4186.934228  0.019802  207.918875   \n",
       "6     4500     1200.0        360     4186.934228  0.027745  291.325984   \n",
       "7     5250      900.0        360     4186.934228  0.036901  387.463488   \n",
       "8     6000      600.0        360     4186.934228  0.047242  496.039071   \n",
       "9     6750      300.0        360     4186.934228  0.058743  616.805236   \n",
       "10    7500        0.0        360     4186.934228  0.071386  749.547930   \n",
       "\n",
       "      Pf(psia)     Po(psia)   Psys(psia)  \n",
       "0     0.000000  4546.934228  1546.934228  \n",
       "1     4.925531  4551.859759  1851.859759  \n",
       "2    15.628834  4562.563061  2122.563061  \n",
       "3    37.594764  4584.528991  2484.528991  \n",
       "4    64.012387  4610.946615  2810.946615  \n",
       "5    96.726962  4643.661189  3143.661189  \n",
       "6   135.529193  4682.463421  3482.463421  \n",
       "7   180.253793  4727.188021  3827.188021  \n",
       "8   230.764774  4777.699001  4177.699001  \n",
       "9   286.946995  4833.881223  4533.881223  \n",
       "10  348.700876  4895.635104  4895.635104  "
      ]
     },
     "execution_count": 58,
     "metadata": {},
     "output_type": "execute_result"
    }
   ],
   "source": [
    "df"
   ]
  },
  {
   "cell_type": "markdown",
   "metadata": {
    "pycharm": {
     "name": "#%% md\n"
    }
   },
   "source": [
    "## f) Plot Inflow, Outflow, and Systems curves con the graph"
   ]
  },
  {
   "cell_type": "code",
   "execution_count": 33,
   "metadata": {
    "pycharm": {
     "name": "#%%\n"
    }
   },
   "outputs": [
    {
     "data": {
      "image/png": "[encoded data removed]",
      "text/plain": [
       "<Figure size 1800x1000 with 1 Axes>"
      ]
     },
     "metadata": {},
     "output_type": "display_data"
    }
   ],
   "source": [
    "fig2, ax = plt.subplots(figsize=(18, 10))\n",
    "\n",
    "ax.plot(df['Q(bpd)'].values, df['Pwf(psia)'].values, c='red', label='IPR')\n",
    "ax.plot(df['Q(bpd)'].values, df['Po(psia)'].values, c='green', label='VLP')\n",
    "#ax.plot(df['Q(bpd)'].values, df['Psys(psia)'].values, c='b', label='System Curve')\n",
    "ax.set_xlabel('Q(bpd)')\n",
    "ax.set_ylabel('Pwf(psia)')\n",
    "ax.set_xlim(0, df['Q(bpd)'].max() + 1000)\n",
    "ax.set_title('Nodal Analysis')\n",
    "ax.grid()\n",
    "plt.legend()\n",
    "plt.show()"
   ]
  },
  {
   "cell_type": "markdown",
   "metadata": {
    "pycharm": {
     "name": "#%% md\n"
    }
   },
   "source": [
    "## Ejercicio 2"
   ]
  },
  {
   "cell_type": "code",
   "execution_count": 35,
   "metadata": {
    "collapsed": false,
    "jupyter": {
     "outputs_hidden": false
    },
    "pycharm": {
     "name": "#%%\n"
    }
   },
   "outputs": [],
   "source": [
    "# Data\n",
    "Pr = 3000 #psia\n",
    "Pb = 2300 #psia\n",
    "Qt = 1500 #bpd\n",
    "Pwft = 2400 #psia\n",
    "THP = 360 #psia\n",
    "wc2 = 0.5\n",
    "API = 20\n",
    "sg_h2o = 1.09\n",
    "ID = 3.5 #in\n",
    "tvd = 9000 #ft\n",
    "md = 10500 #ft\n",
    "C = 120"
   ]
  },
  {
   "cell_type": "markdown",
   "metadata": {},
   "source": [
    "## a) IP"
   ]
  },
  {
   "cell_type": "code",
   "execution_count": 36,
   "metadata": {},
   "outputs": [
    {
     "name": "stdout",
     "output_type": "stream",
     "text": [
      "IP -> 2.5 bpd/psia\n"
     ]
    }
   ],
   "source": [
    "IP = j(Qt, Pwft, Pr, Pb)\n",
    "print(f\"IP -> {IP} bpd/psia\")"
   ]
  },
  {
   "cell_type": "markdown",
   "metadata": {},
   "source": [
    "## b) Qmax"
   ]
  },
  {
   "cell_type": "code",
   "execution_count": 37,
   "metadata": {},
   "outputs": [
    {
     "name": "stdout",
     "output_type": "stream",
     "text": [
      "Qmax -> 7500.0 bpd\n"
     ]
    }
   ],
   "source": [
    "Qmax =  aof(Qt, Pwft, Pr, Pb)\n",
    "print(f\"Qmax -> {Qmax} bpd\")"
   ]
  },
  {
   "cell_type": "markdown",
   "metadata": {},
   "source": [
    "## SGavg"
   ]
  },
  {
   "cell_type": "code",
   "execution_count": 39,
   "metadata": {},
   "outputs": [
    {
     "name": "stdout",
     "output_type": "stream",
     "text": [
      "Sgavg -> 1.01\n"
     ]
    }
   ],
   "source": [
    "sgavg = sg_avg(API, wc2, sg_h2o)\n",
    "print(f\"Sgavg -> {sgavg:.2f}\")"
   ]
  },
  {
   "cell_type": "markdown",
   "metadata": {},
   "source": [
    "## d) Gavg"
   ]
  },
  {
   "cell_type": "code",
   "execution_count": 41,
   "metadata": {},
   "outputs": [
    {
     "name": "stdout",
     "output_type": "stream",
     "text": [
      "Gavg -> 0.44 psi/ft\n"
     ]
    }
   ],
   "source": [
    "Gavg = gradient_avg(API, wc2, sg_h2o)\n",
    "print(f\"Gavg -> {Gavg:.2f} psi/ft\")"
   ]
  },
  {
   "cell_type": "markdown",
   "metadata": {},
   "source": [
    "## e) Complete the table of values of P VS flow rate to calculate inflow and outflow pressures"
   ]
  },
  {
   "cell_type": "code",
   "execution_count": 44,
   "metadata": {},
   "outputs": [],
   "source": [
    "columns = ['Q(bpd)', 'Pwf(psia)', 'THP(psia)', 'Pgravity(psia)', 'f', 'F(ft)', 'Pf(psia)', 'Po(psia)', 'Psys(psia)']\n",
    "df2 = pd.DataFrame(columns=columns)\n",
    "\n",
    "# Here the AOF is divided per 10 in order to evaluate the pwf for these 10 different flow rates\n",
    "df2[columns[0]] = np.array([0, 750, 1400, 2250, 3000, 3750, 4500, 5250, 6000, 6750, 7500])\n",
    "df2[columns[1]] = df2['Q(bpd)'].apply(lambda row: pwf_darcy(Qt, Pwft, row, Pr, Pb))\n",
    "df2[columns[2]] = THP\n",
    "df2[columns[3]] = gradient_avg(API, wc2, sg_h2o) * tvd\n",
    "df2[columns[4]] = df2['Q(bpd)'].apply(lambda x: f_hanzenW(x, ID, C))\n",
    "df2[columns[5]] = df2['f'] * md\n",
    "df2[columns[6]] = gradient_avg(API, wc2, sg_h2o) * df2['F(ft)']\n",
    "df2[columns[7]] = df2['THP(psia)'] + df2['Pgravity(psia)'] + df2['Pf(psia)']\n",
    "df2[columns[8]] = df2['Po(psia)'] - df2['Pwf(psia)']"
   ]
  },
  {
   "cell_type": "code",
   "execution_count": 45,
   "metadata": {},
   "outputs": [
    {
     "data": {
      "text/html": [
       "<div>\n",
       "<style scoped>\n",
       "    .dataframe tbody tr th:only-of-type {\n",
       "        vertical-align: middle;\n",
       "    }\n",
       "\n",
       "    .dataframe tbody tr th {\n",
       "        vertical-align: top;\n",
       "    }\n",
       "\n",
       "    .dataframe thead th {\n",
       "        text-align: right;\n",
       "    }\n",
       "</style>\n",
       "<table border=\"1\" class=\"dataframe\">\n",
       "  <thead>\n",
       "    <tr style=\"text-align: right;\">\n",
       "      <th></th>\n",
       "      <th>Q(bpd)</th>\n",
       "      <th>Pwf(psia)</th>\n",
       "      <th>THP(psia)</th>\n",
       "      <th>Pgravity(psia)</th>\n",
       "      <th>f</th>\n",
       "      <th>F(ft)</th>\n",
       "      <th>Pf(psia)</th>\n",
       "      <th>Po(psia)</th>\n",
       "      <th>Psys(psia)</th>\n",
       "    </tr>\n",
       "  </thead>\n",
       "  <tbody>\n",
       "    <tr>\n",
       "      <th>0</th>\n",
       "      <td>0</td>\n",
       "      <td>3000.0</td>\n",
       "      <td>360</td>\n",
       "      <td>3943.751139</td>\n",
       "      <td>0.000000</td>\n",
       "      <td>0.000000</td>\n",
       "      <td>0.000000</td>\n",
       "      <td>4303.751139</td>\n",
       "      <td>1303.751139</td>\n",
       "    </tr>\n",
       "    <tr>\n",
       "      <th>1</th>\n",
       "      <td>750</td>\n",
       "      <td>2700.0</td>\n",
       "      <td>360</td>\n",
       "      <td>3943.751139</td>\n",
       "      <td>0.001008</td>\n",
       "      <td>10.587646</td>\n",
       "      <td>4.639449</td>\n",
       "      <td>4308.390588</td>\n",
       "      <td>1608.390588</td>\n",
       "    </tr>\n",
       "    <tr>\n",
       "      <th>2</th>\n",
       "      <td>1400</td>\n",
       "      <td>2440.0</td>\n",
       "      <td>360</td>\n",
       "      <td>3943.751139</td>\n",
       "      <td>0.003200</td>\n",
       "      <td>33.594868</td>\n",
       "      <td>14.721089</td>\n",
       "      <td>4318.472227</td>\n",
       "      <td>1878.472227</td>\n",
       "    </tr>\n",
       "    <tr>\n",
       "      <th>3</th>\n",
       "      <td>2250</td>\n",
       "      <td>2100.0</td>\n",
       "      <td>360</td>\n",
       "      <td>3943.751139</td>\n",
       "      <td>0.007696</td>\n",
       "      <td>80.811605</td>\n",
       "      <td>35.411206</td>\n",
       "      <td>4339.162345</td>\n",
       "      <td>2239.162345</td>\n",
       "    </tr>\n",
       "    <tr>\n",
       "      <th>4</th>\n",
       "      <td>3000</td>\n",
       "      <td>1800.0</td>\n",
       "      <td>360</td>\n",
       "      <td>3943.751139</td>\n",
       "      <td>0.013105</td>\n",
       "      <td>137.597452</td>\n",
       "      <td>60.294457</td>\n",
       "      <td>4364.045595</td>\n",
       "      <td>2564.045595</td>\n",
       "    </tr>\n",
       "    <tr>\n",
       "      <th>5</th>\n",
       "      <td>3750</td>\n",
       "      <td>1500.0</td>\n",
       "      <td>360</td>\n",
       "      <td>3943.751139</td>\n",
       "      <td>0.019802</td>\n",
       "      <td>207.918875</td>\n",
       "      <td>91.108922</td>\n",
       "      <td>4394.860061</td>\n",
       "      <td>2894.860061</td>\n",
       "    </tr>\n",
       "    <tr>\n",
       "      <th>6</th>\n",
       "      <td>4500</td>\n",
       "      <td>1200.0</td>\n",
       "      <td>360</td>\n",
       "      <td>3943.751139</td>\n",
       "      <td>0.027745</td>\n",
       "      <td>291.325984</td>\n",
       "      <td>127.657465</td>\n",
       "      <td>4431.408603</td>\n",
       "      <td>3231.408603</td>\n",
       "    </tr>\n",
       "    <tr>\n",
       "      <th>7</th>\n",
       "      <td>5250</td>\n",
       "      <td>900.0</td>\n",
       "      <td>360</td>\n",
       "      <td>3943.751139</td>\n",
       "      <td>0.036901</td>\n",
       "      <td>387.463488</td>\n",
       "      <td>169.784397</td>\n",
       "      <td>4473.535535</td>\n",
       "      <td>3573.535535</td>\n",
       "    </tr>\n",
       "    <tr>\n",
       "      <th>8</th>\n",
       "      <td>6000</td>\n",
       "      <td>600.0</td>\n",
       "      <td>360</td>\n",
       "      <td>3943.751139</td>\n",
       "      <td>0.047242</td>\n",
       "      <td>496.039071</td>\n",
       "      <td>217.361628</td>\n",
       "      <td>4521.112766</td>\n",
       "      <td>3921.112766</td>\n",
       "    </tr>\n",
       "    <tr>\n",
       "      <th>9</th>\n",
       "      <td>6750</td>\n",
       "      <td>300.0</td>\n",
       "      <td>360</td>\n",
       "      <td>3943.751139</td>\n",
       "      <td>0.058743</td>\n",
       "      <td>616.805236</td>\n",
       "      <td>270.280706</td>\n",
       "      <td>4574.031844</td>\n",
       "      <td>4274.031844</td>\n",
       "    </tr>\n",
       "    <tr>\n",
       "      <th>10</th>\n",
       "      <td>7500</td>\n",
       "      <td>0.0</td>\n",
       "      <td>360</td>\n",
       "      <td>3943.751139</td>\n",
       "      <td>0.071386</td>\n",
       "      <td>749.547930</td>\n",
       "      <td>328.447834</td>\n",
       "      <td>4632.198972</td>\n",
       "      <td>4632.198972</td>\n",
       "    </tr>\n",
       "  </tbody>\n",
       "</table>\n",
       "</div>"
      ],
      "text/plain": [
       "    Q(bpd)  Pwf(psia)  THP(psia)  Pgravity(psia)         f       F(ft)   \n",
       "0        0     3000.0        360     3943.751139  0.000000    0.000000  \\\n",
       "1      750     2700.0        360     3943.751139  0.001008   10.587646   \n",
       "2     1400     2440.0        360     3943.751139  0.003200   33.594868   \n",
       "3     2250     2100.0        360     3943.751139  0.007696   80.811605   \n",
       "4     3000     1800.0        360     3943.751139  0.013105  137.597452   \n",
       "5     3750     1500.0        360     3943.751139  0.019802  207.918875   \n",
       "6     4500     1200.0        360     3943.751139  0.027745  291.325984   \n",
       "7     5250      900.0        360     3943.751139  0.036901  387.463488   \n",
       "8     6000      600.0        360     3943.751139  0.047242  496.039071   \n",
       "9     6750      300.0        360     3943.751139  0.058743  616.805236   \n",
       "10    7500        0.0        360     3943.751139  0.071386  749.547930   \n",
       "\n",
       "      Pf(psia)     Po(psia)   Psys(psia)  \n",
       "0     0.000000  4303.751139  1303.751139  \n",
       "1     4.639449  4308.390588  1608.390588  \n",
       "2    14.721089  4318.472227  1878.472227  \n",
       "3    35.411206  4339.162345  2239.162345  \n",
       "4    60.294457  4364.045595  2564.045595  \n",
       "5    91.108922  4394.860061  2894.860061  \n",
       "6   127.657465  4431.408603  3231.408603  \n",
       "7   169.784397  4473.535535  3573.535535  \n",
       "8   217.361628  4521.112766  3921.112766  \n",
       "9   270.280706  4574.031844  4274.031844  \n",
       "10  328.447834  4632.198972  4632.198972  "
      ]
     },
     "execution_count": 45,
     "metadata": {},
     "output_type": "execute_result"
    }
   ],
   "source": [
    "df2"
   ]
  },
  {
   "cell_type": "markdown",
   "metadata": {},
   "source": [
    "## f) Plot Inflow, Outflow, and Systems curves con the graph"
   ]
  },
  {
   "cell_type": "code",
   "execution_count": 68,
   "metadata": {},
   "outputs": [
    {
     "data": {
      "image/png": "[encoded data removed]",
      "text/plain": [
       "<Figure size 1800x1000 with 1 Axes>"
      ]
     },
     "metadata": {},
     "output_type": "display_data"
    }
   ],
   "source": [
    "fig2, ax = plt.subplots(figsize=(18, 10))\n",
    "\n",
    "ax.plot(df2['Q(bpd)'].values, df2['Pwf(psia)'].values, c='red', label='IPR')\n",
    "ax.plot(df2['Q(bpd)'].values, df2['Po(psia)'].values, c='green', label='VLP@wc=0.5')\n",
    "ax.plot(df[\"Q(bpd)\"].values, df[\"Po(psia)\"].values, c=\"yellow\", label=\"VLP@wc=0.9\")\n",
    "#ax.plot(df['Q(bpd)'].values, df['Psys(psia)'].values, c='b', label='System Curve')\n",
    "ax.set_xlabel('Q(bpd)')\n",
    "ax.set_ylabel('Pwf(psia)')\n",
    "ax.set_xlim(0, df2['Q(bpd)'].max() + 1000)\n",
    "#ax.set_ylim(0, df2[\"Po(psia)\"].max() + 800)\n",
    "ax.set_title('Nodal Analysis')\n",
    "ax.grid()\n",
    "plt.legend()\n",
    "plt.show()"
   ]
  },
  {
   "cell_type": "markdown",
   "metadata": {
    "pycharm": {
     "name": "#%% md\n"
    }
   },
   "source": [
    "## Ejercicio 3"
   ]
  },
  {
   "cell_type": "code",
   "execution_count": 69,
   "metadata": {
    "collapsed": false,
    "jupyter": {
     "outputs_hidden": false
    },
    "pycharm": {
     "name": "#%%\n"
    }
   },
   "outputs": [],
   "source": [
    "# Data\n",
    "Pr = 3000 #psia\n",
    "Pb = 2300 #psia\n",
    "Qt = 1500 #bpd\n",
    "Pwft = 2400 #psia\n",
    "THP = 360 # psia\n",
    "wc = 0.9\n",
    "sg_h2o = 1.09\n",
    "Api = 20\n",
    "ID = 3.5 #in\n",
    "tvd = 9000 #ft\n",
    "md = 10500 #ft\n",
    "Nvl = 5000 #ft\n",
    "C = 120"
   ]
  },
  {
   "cell_type": "markdown",
   "metadata": {
    "pycharm": {
     "name": "#%% md\n"
    }
   },
   "source": [
    "## a) IP"
   ]
  },
  {
   "cell_type": "code",
   "execution_count": 71,
   "metadata": {},
   "outputs": [
    {
     "data": {
      "text/plain": [
       "2.5"
      ]
     },
     "execution_count": 71,
     "metadata": {},
     "output_type": "execute_result"
    }
   ],
   "source": [
    "Ip = j(Qt, Pwft, Pr, Pb)\n",
    "Ip"
   ]
  },
  {
   "cell_type": "markdown",
   "metadata": {
    "pycharm": {
     "name": "#%% md\n"
    }
   },
   "source": [
    "## b) AOF"
   ]
  },
  {
   "cell_type": "code",
   "execution_count": 72,
   "metadata": {},
   "outputs": [
    {
     "data": {
      "text/plain": [
       "7500.0"
      ]
     },
     "execution_count": 72,
     "metadata": {},
     "output_type": "execute_result"
    }
   ],
   "source": [
    "Qmax = aof(Qt, Pwft, Pr, Pb)\n",
    "Qmax"
   ]
  },
  {
   "cell_type": "markdown",
   "metadata": {
    "pycharm": {
     "name": "#%% md\n"
    }
   },
   "source": [
    "## c) SG_Avg"
   ]
  },
  {
   "cell_type": "code",
   "execution_count": 73,
   "metadata": {},
   "outputs": [
    {
     "data": {
      "text/plain": [
       "1.0743993399339935"
      ]
     },
     "execution_count": 73,
     "metadata": {},
     "output_type": "execute_result"
    }
   ],
   "source": [
    "Sgavg = sg_avg(Api, wc, sg_h2o)\n",
    "Sgavg"
   ]
  },
  {
   "cell_type": "markdown",
   "metadata": {
    "pycharm": {
     "name": "#%% md\n"
    }
   },
   "source": [
    "## d) Gradiente_avg"
   ]
  },
  {
   "cell_type": "code",
   "execution_count": 74,
   "metadata": {},
   "outputs": [
    {
     "data": {
      "text/plain": [
       "0.4652149141914192"
      ]
     },
     "execution_count": 74,
     "metadata": {},
     "output_type": "execute_result"
    }
   ],
   "source": [
    "Gavg = gradient_avg(Api, wc, sg_h2o)\n",
    "Gavg"
   ]
  },
  {
   "cell_type": "markdown",
   "metadata": {
    "pycharm": {
     "name": "#%% md\n"
    }
   },
   "source": [
    "## e) Complete the table of values of P VS flow rate to calculate inflow and outflow pressures"
   ]
  },
  {
   "cell_type": "code",
   "execution_count": 75,
   "metadata": {},
   "outputs": [],
   "source": [
    "columns = ['Q(bpd)', 'Pwf(psia)', 'THP(psia)', 'Pgravity(psia)', 'f', 'F(ft)', 'Pf(psia)', 'Po(psia)', 'Psys(psia)']\n",
    "df3 = pd.DataFrame(columns=columns)\n",
    "\n",
    "# Here the AOF is divided per 10 in order to evaluate the pwf for these 10 different flow rates\n",
    "df3[columns[0]] = np.array([0, 750, 1400, 2250, 3000, 3750, 4500, 5250, 6000, 6750, 7500])\n",
    "df3[columns[1]] = df2['Q(bpd)'].apply(lambda row: pwf_darcy(Qt, Pwft, row, Pr, Pb))\n",
    "df3[columns[2]] = THP\n",
    "df3[columns[3]] = gradient_avg(API, wc, sg_h2o) * Nvl\n",
    "df3[columns[4]] = df3['Q(bpd)'].apply(lambda x: f_hanzenW(x, ID, C))\n",
    "df3[columns[5]] = df3['f'] * md\n",
    "df3[columns[6]] = gradient_avg(API, wc, sg_h2o) * df3['F(ft)']\n",
    "df3[columns[7]] = df3['THP(psia)'] + df3['Pgravity(psia)'] + df3['Pf(psia)']\n",
    "df3[columns[8]] = df3['Po(psia)'] - df3['Pwf(psia)']"
   ]
  },
  {
   "cell_type": "code",
   "execution_count": 77,
   "metadata": {},
   "outputs": [
    {
     "data": {
      "text/html": [
       "<div>\n",
       "<style scoped>\n",
       "    .dataframe tbody tr th:only-of-type {\n",
       "        vertical-align: middle;\n",
       "    }\n",
       "\n",
       "    .dataframe tbody tr th {\n",
       "        vertical-align: top;\n",
       "    }\n",
       "\n",
       "    .dataframe thead th {\n",
       "        text-align: right;\n",
       "    }\n",
       "</style>\n",
       "<table border=\"1\" class=\"dataframe\">\n",
       "  <thead>\n",
       "    <tr style=\"text-align: right;\">\n",
       "      <th></th>\n",
       "      <th>Q(bpd)</th>\n",
       "      <th>Pwf(psia)</th>\n",
       "      <th>THP(psia)</th>\n",
       "      <th>Pgravity(psia)</th>\n",
       "      <th>f</th>\n",
       "      <th>F(ft)</th>\n",
       "      <th>Pf(psia)</th>\n",
       "      <th>Po(psia)</th>\n",
       "      <th>Psys(psia)</th>\n",
       "    </tr>\n",
       "  </thead>\n",
       "  <tbody>\n",
       "    <tr>\n",
       "      <th>0</th>\n",
       "      <td>0</td>\n",
       "      <td>3000.0</td>\n",
       "      <td>360</td>\n",
       "      <td>2326.074571</td>\n",
       "      <td>0.000000</td>\n",
       "      <td>0.000000</td>\n",
       "      <td>0.000000</td>\n",
       "      <td>2686.074571</td>\n",
       "      <td>-313.925429</td>\n",
       "    </tr>\n",
       "    <tr>\n",
       "      <th>1</th>\n",
       "      <td>750</td>\n",
       "      <td>2700.0</td>\n",
       "      <td>360</td>\n",
       "      <td>2326.074571</td>\n",
       "      <td>0.001008</td>\n",
       "      <td>10.587646</td>\n",
       "      <td>4.925531</td>\n",
       "      <td>2691.000102</td>\n",
       "      <td>-8.999898</td>\n",
       "    </tr>\n",
       "    <tr>\n",
       "      <th>2</th>\n",
       "      <td>1400</td>\n",
       "      <td>2440.0</td>\n",
       "      <td>360</td>\n",
       "      <td>2326.074571</td>\n",
       "      <td>0.003200</td>\n",
       "      <td>33.594868</td>\n",
       "      <td>15.628834</td>\n",
       "      <td>2701.703405</td>\n",
       "      <td>261.703405</td>\n",
       "    </tr>\n",
       "    <tr>\n",
       "      <th>3</th>\n",
       "      <td>2250</td>\n",
       "      <td>2100.0</td>\n",
       "      <td>360</td>\n",
       "      <td>2326.074571</td>\n",
       "      <td>0.007696</td>\n",
       "      <td>80.811605</td>\n",
       "      <td>37.594764</td>\n",
       "      <td>2723.669335</td>\n",
       "      <td>623.669335</td>\n",
       "    </tr>\n",
       "    <tr>\n",
       "      <th>4</th>\n",
       "      <td>3000</td>\n",
       "      <td>1800.0</td>\n",
       "      <td>360</td>\n",
       "      <td>2326.074571</td>\n",
       "      <td>0.013105</td>\n",
       "      <td>137.597452</td>\n",
       "      <td>64.012387</td>\n",
       "      <td>2750.086958</td>\n",
       "      <td>950.086958</td>\n",
       "    </tr>\n",
       "    <tr>\n",
       "      <th>5</th>\n",
       "      <td>3750</td>\n",
       "      <td>1500.0</td>\n",
       "      <td>360</td>\n",
       "      <td>2326.074571</td>\n",
       "      <td>0.019802</td>\n",
       "      <td>207.918875</td>\n",
       "      <td>96.726962</td>\n",
       "      <td>2782.801533</td>\n",
       "      <td>1282.801533</td>\n",
       "    </tr>\n",
       "    <tr>\n",
       "      <th>6</th>\n",
       "      <td>4500</td>\n",
       "      <td>1200.0</td>\n",
       "      <td>360</td>\n",
       "      <td>2326.074571</td>\n",
       "      <td>0.027745</td>\n",
       "      <td>291.325984</td>\n",
       "      <td>135.529193</td>\n",
       "      <td>2821.603764</td>\n",
       "      <td>1621.603764</td>\n",
       "    </tr>\n",
       "    <tr>\n",
       "      <th>7</th>\n",
       "      <td>5250</td>\n",
       "      <td>900.0</td>\n",
       "      <td>360</td>\n",
       "      <td>2326.074571</td>\n",
       "      <td>0.036901</td>\n",
       "      <td>387.463488</td>\n",
       "      <td>180.253793</td>\n",
       "      <td>2866.328364</td>\n",
       "      <td>1966.328364</td>\n",
       "    </tr>\n",
       "    <tr>\n",
       "      <th>8</th>\n",
       "      <td>6000</td>\n",
       "      <td>600.0</td>\n",
       "      <td>360</td>\n",
       "      <td>2326.074571</td>\n",
       "      <td>0.047242</td>\n",
       "      <td>496.039071</td>\n",
       "      <td>230.764774</td>\n",
       "      <td>2916.839345</td>\n",
       "      <td>2316.839345</td>\n",
       "    </tr>\n",
       "    <tr>\n",
       "      <th>9</th>\n",
       "      <td>6750</td>\n",
       "      <td>300.0</td>\n",
       "      <td>360</td>\n",
       "      <td>2326.074571</td>\n",
       "      <td>0.058743</td>\n",
       "      <td>616.805236</td>\n",
       "      <td>286.946995</td>\n",
       "      <td>2973.021566</td>\n",
       "      <td>2673.021566</td>\n",
       "    </tr>\n",
       "    <tr>\n",
       "      <th>10</th>\n",
       "      <td>7500</td>\n",
       "      <td>0.0</td>\n",
       "      <td>360</td>\n",
       "      <td>2326.074571</td>\n",
       "      <td>0.071386</td>\n",
       "      <td>749.547930</td>\n",
       "      <td>348.700876</td>\n",
       "      <td>3034.775447</td>\n",
       "      <td>3034.775447</td>\n",
       "    </tr>\n",
       "  </tbody>\n",
       "</table>\n",
       "</div>"
      ],
      "text/plain": [
       "    Q(bpd)  Pwf(psia)  THP(psia)  Pgravity(psia)         f       F(ft)   \n",
       "0        0     3000.0        360     2326.074571  0.000000    0.000000  \\\n",
       "1      750     2700.0        360     2326.074571  0.001008   10.587646   \n",
       "2     1400     2440.0        360     2326.074571  0.003200   33.594868   \n",
       "3     2250     2100.0        360     2326.074571  0.007696   80.811605   \n",
       "4     3000     1800.0        360     2326.074571  0.013105  137.597452   \n",
       "5     3750     1500.0        360     2326.074571  0.019802  207.918875   \n",
       "6     4500     1200.0        360     2326.074571  0.027745  291.325984   \n",
       "7     5250      900.0        360     2326.074571  0.036901  387.463488   \n",
       "8     6000      600.0        360     2326.074571  0.047242  496.039071   \n",
       "9     6750      300.0        360     2326.074571  0.058743  616.805236   \n",
       "10    7500        0.0        360     2326.074571  0.071386  749.547930   \n",
       "\n",
       "      Pf(psia)     Po(psia)   Psys(psia)  \n",
       "0     0.000000  2686.074571  -313.925429  \n",
       "1     4.925531  2691.000102    -8.999898  \n",
       "2    15.628834  2701.703405   261.703405  \n",
       "3    37.594764  2723.669335   623.669335  \n",
       "4    64.012387  2750.086958   950.086958  \n",
       "5    96.726962  2782.801533  1282.801533  \n",
       "6   135.529193  2821.603764  1621.603764  \n",
       "7   180.253793  2866.328364  1966.328364  \n",
       "8   230.764774  2916.839345  2316.839345  \n",
       "9   286.946995  2973.021566  2673.021566  \n",
       "10  348.700876  3034.775447  3034.775447  "
      ]
     },
     "execution_count": 77,
     "metadata": {},
     "output_type": "execute_result"
    }
   ],
   "source": [
    "df3"
   ]
  },
  {
   "cell_type": "markdown",
   "metadata": {
    "pycharm": {
     "name": "#%% md\n"
    }
   },
   "source": [
    "## f) Plot Inflow, Outflow, and Systems curves con the graph"
   ]
  },
  {
   "cell_type": "code",
   "execution_count": 80,
   "metadata": {},
   "outputs": [
    {
     "data": {
      "image/png": "[encoded data removed]",
      "text/plain": [
       "<Figure size 1800x1000 with 1 Axes>"
      ]
     },
     "metadata": {},
     "output_type": "display_data"
    }
   ],
   "source": [
    "fig2, ax = plt.subplots(figsize=(18, 10))\n",
    "\n",
    "ax.plot(df3['Q(bpd)'].values, df3['Pwf(psia)'].values, c='red', label='IPR')\n",
    "ax.plot(df3['Q(bpd)'].values, df3['Po(psia)'].values, c='green', label='VLP')\n",
    "#ax.plot(df['Q(bpd)'].values, df['Psys(psia)'].values, c='b', label='System Curve')\n",
    "ax.set_xlabel('Q(bpd)')\n",
    "ax.set_ylabel('Pwf(psia)')\n",
    "ax.set_xlim(0, df2['Q(bpd)'].max() + 1000)\n",
    "#ax.set_ylim(0, df2[\"Po(psia)\"].max() + 800)\n",
    "ax.set_title('Nodal Analysis')\n",
    "ax.grid()\n",
    "plt.legend()\n",
    "plt.show()"
   ]
  },
  {
   "cell_type": "markdown",
   "metadata": {
    "pycharm": {
     "name": "#%% md\n"
    }
   },
   "source": [
    "## Ejercicio 4"
   ]
  },
  {
   "cell_type": "code",
   "execution_count": 25,
   "metadata": {
    "collapsed": false,
    "jupyter": {
     "outputs_hidden": false
    },
    "pycharm": {
     "name": "#%%\n"
    }
   },
   "outputs": [],
   "source": [
    "# Datos\n",
    "Pr = 3482 #psia\n",
    "TVD = 10000 #ft\n",
    "GLR = 400 #scf/stb\n",
    "Pb = 3100 #psia\n",
    "Pwh = 400 #psia\n",
    "API = 35\n",
    "fw = 0.5\n",
    "Qt = 320 #bpd\n",
    "Pwft = 3445 #psia\n",
    "EF = 1"
   ]
  },
  {
   "cell_type": "code",
   "execution_count": 27,
   "metadata": {
    "collapsed": false,
    "jupyter": {
     "outputs_hidden": false
    },
    "pycharm": {
     "name": "#%%\n"
    }
   },
   "outputs": [
    {
     "name": "stdout",
     "output_type": "stream",
     "text": [
      "8.64864864864865 bpd/psia\n"
     ]
    }
   ],
   "source": [
    "IP = j(Qt, Pwft, Pr, Pb)\n",
    "print(f\"{IP} bpd/psia\")"
   ]
  },
  {
   "cell_type": "code",
   "execution_count": 28,
   "metadata": {
    "collapsed": false,
    "jupyter": {
     "outputs_hidden": false
    },
    "pycharm": {
     "name": "#%%\n"
    }
   },
   "outputs": [
    {
     "name": "stdout",
     "output_type": "stream",
     "text": [
      "30114.594594594597 bpd\n"
     ]
    }
   ],
   "source": [
    "Q_max = aof(Qt, Pwft, Pr, Pb)\n",
    "print(f\"{Q_max} bpd\")"
   ]
  },
  {
   "cell_type": "markdown",
   "metadata": {
    "pycharm": {
     "name": "#%% md\n"
    }
   },
   "source": [
    "## d) Gradiente_avg"
   ]
  },
  {
   "cell_type": "markdown",
   "metadata": {
    "pycharm": {
     "name": "#%% md\n"
    }
   },
   "source": [
    "## e) Complete the table of values of P VS flow rate to calculate inflow and outflow pressures"
   ]
  },
  {
   "cell_type": "markdown",
   "metadata": {
    "pycharm": {
     "name": "#%% md\n"
    }
   },
   "source": [
    "## f) Plot Inflow, Outflow, and Systems curves con the graph"
   ]
  },
  {
   "cell_type": "markdown",
   "metadata": {
    "pycharm": {
     "name": "#%% md\n"
    }
   },
   "source": [
    "## Ejercicio 5"
   ]
  },
  {
   "cell_type": "code",
   "execution_count": 81,
   "metadata": {
    "pycharm": {
     "name": "#%%\n"
    }
   },
   "outputs": [],
   "source": [
    "# Datos (Flujo Multifasico)\n",
    "Pr = 3482 #psia\n",
    "TVD = 10000 #ft\n",
    "GLR = 400 #scf/stb\n",
    "Pb = 3100 #psia\n",
    "Pwh = 400 #psia\n",
    "API = 35\n",
    "fw = 0.5\n",
    "Qt = 320 #bpd\n",
    "Pwft = 3445 #psia\n",
    "EF = 1"
   ]
  },
  {
   "cell_type": "code",
   "execution_count": 82,
   "metadata": {
    "pycharm": {
     "name": "#%%\n"
    }
   },
   "outputs": [
    {
     "data": {
      "text/plain": [
       "3303.7837837837837"
      ]
     },
     "execution_count": 82,
     "metadata": {},
     "output_type": "execute_result"
    }
   ],
   "source": [
    "QB = Qb(Qt, Pwft, Pr, Pb)\n",
    "QB"
   ]
  },
  {
   "cell_type": "code",
   "execution_count": 83,
   "metadata": {
    "pycharm": {
     "name": "#%%\n"
    }
   },
   "outputs": [
    {
     "name": "stdout",
     "output_type": "stream",
     "text": [
      "8.65 bpd/psia\n"
     ]
    }
   ],
   "source": [
    "IP = j(Qt, Pwft, Pr, Pb)\n",
    "print(f\"{IP:.2f} bpd/psia\")"
   ]
  },
  {
   "cell_type": "code",
   "execution_count": 84,
   "metadata": {
    "pycharm": {
     "name": "#%%\n"
    }
   },
   "outputs": [
    {
     "name": "stdout",
     "output_type": "stream",
     "text": [
      "30114.59 bpd\n"
     ]
    }
   ],
   "source": [
    "Q_max = aof(Qt, Pwft, Pr, Pb)\n",
    "print(f\"{Q_max:.2f} bpd\")"
   ]
  },
  {
   "cell_type": "code",
   "execution_count": 89,
   "metadata": {
    "pycharm": {
     "name": "#%%\n"
    }
   },
   "outputs": [
    {
     "data": {
      "text/plain": [
       "[3424.1875, 3366.375, 3250.75, 3135.125, 3019.5]"
      ]
     },
     "execution_count": 89,
     "metadata": {},
     "output_type": "execute_result"
    }
   ],
   "source": [
    "# Calculo de Pwf @ varios caudales\n",
    "Tasas = np.array([500, 1000, 2000, 3000, 4000])\n",
    "pwf_lr = [pwf_darcy(Qt, Pwft, q, Pr, Pb) for q in Tasas]\n",
    "pwf_lr"
   ]
  },
  {
   "cell_type": "code",
   "execution_count": 86,
   "metadata": {
    "pycharm": {
     "name": "#%%\n"
    }
   },
   "outputs": [],
   "source": [
    "Po_ID1 = [3000, 3020, 3200, 3270, 3520]"
   ]
  },
  {
   "cell_type": "code",
   "execution_count": 87,
   "metadata": {
    "pycharm": {
     "name": "#%%\n"
    }
   },
   "outputs": [],
   "source": [
    "Po_ID2 = [3000, 3100, 3360, 3800]"
   ]
  },
  {
   "cell_type": "code",
   "execution_count": 88,
   "metadata": {
    "pycharm": {
     "name": "#%%\n"
    }
   },
   "outputs": [],
   "source": [
    "Po_ID3 = [3120, 3360]"
   ]
  },
  {
   "cell_type": "code",
   "execution_count": 94,
   "metadata": {
    "pycharm": {
     "name": "#%%\n"
    }
   },
   "outputs": [
    {
     "data": {
      "image/png": "[encoded data removed]",
      "text/plain": [
       "<Figure size 1800x800 with 1 Axes>"
      ]
     },
     "metadata": {},
     "output_type": "display_data"
    }
   ],
   "source": [
    "fig5, ax = plt.subplots(figsize = (18, 8))\n",
    "ax.plot(Tasas, pwf_lr, label = 'IPR')\n",
    "ax.plot(Tasas, Po_ID1, label ='VLP@2.992 in')\n",
    "ax.plot(Tasas[:-1], Po_ID2, label = 'VLP@2.441 in')\n",
    "ax.plot(Tasas[0:2], Po_ID3, label = 'VLP@1.995 in')\n",
    "ax.set_xlabel('Q(bpd)')\n",
    "ax.set_ylabel('Pwf(psia)')\n",
    "ax.set_title('Nodal Analysis')\n",
    "ax.set_xlim(min(Tasas))\n",
    "#ax.set_ylim(bottom=3000)\n",
    "ax.set_xticks(np.arange(500, 4000, 100), minor=True)\n",
    "#ax.set_yticks(np.arange(3000, 4000, 100), minor=True)\n",
    "ax.grid(linestyle='--')\n",
    "plt.legend()\n",
    "plt.show()"
   ]
  }
 ],
 "metadata": {
  "kernelspec": {
   "display_name": "Python 3 (ipykernel)",
   "language": "python",
   "name": "python3"
  },
  "language_info": {
   "codemirror_mode": {
    "name": "ipython",
    "version": 3
   },
   "file_extension": ".py",
   "mimetype": "text/x-python",
   "name": "python",
   "nbconvert_exporter": "python",
   "pygments_lexer": "ipython3",
   "version": "3.10.12"
  }
 },
 "nbformat": 4,
 "nbformat_minor": 4
}
